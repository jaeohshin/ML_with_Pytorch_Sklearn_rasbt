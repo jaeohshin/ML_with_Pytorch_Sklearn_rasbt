{
  "nbformat": 4,
  "nbformat_minor": 0,
  "metadata": {
    "colab": {
      "provenance": [],
      "gpuType": "T4",
      "authorship_tag": "ABX9TyM4s8nXkF2ac4qtfi4Aafxk",
      "include_colab_link": true
    },
    "kernelspec": {
      "name": "python3",
      "display_name": "Python 3"
    },
    "language_info": {
      "name": "python"
    },
    "accelerator": "GPU"
  },
  "cells": [
    {
      "cell_type": "markdown",
      "metadata": {
        "id": "view-in-github",
        "colab_type": "text"
      },
      "source": [
        "<a href=\"https://colab.research.google.com/github/jaeohshin/ML_with_Pytorch_Sklearn_rasbt/blob/main/ch14_CNN.ipynb\" target=\"_parent\"><img src=\"https://colab.research.google.com/assets/colab-badge.svg\" alt=\"Open In Colab\"/></a>"
      ]
    },
    {
      "cell_type": "code",
      "execution_count": 1,
      "metadata": {
        "id": "hcn_y3RspA9y"
      },
      "outputs": [],
      "source": [
        "import numpy as np"
      ]
    },
    {
      "cell_type": "code",
      "source": [
        "def conv1d(x, w, p=0, s=1):\n",
        "    w_rot = np.array(w[::-1])\n",
        "    x_padded = np.array(x)\n",
        "    if p > 0:\n",
        "        zero_pad = np.zeros(shape=p)\n",
        "        x_padded = np.concatenate([\n",
        "            zero_pad, x_padded, zero_pad\n",
        "        ])\n",
        "    res = []\n",
        "    for i in range(0, int((len(x_padded)-len(w_rot)))+1, s):\n",
        "        res.append(np.sum(\n",
        "            x_padded[i:i+w_rot.shape[0]] * w_rot))\n",
        "    return np.array(res)"
      ],
      "metadata": {
        "id": "qlkuQI37wLPx"
      },
      "execution_count": null,
      "outputs": []
    },
    {
      "cell_type": "code",
      "source": [
        "x = [1, 3, 2, 4, 5, 6]\n",
        "w = [1, 2, 3]\n",
        "print(conv1d(x, w, p=0, s=1))"
      ],
      "metadata": {
        "colab": {
          "base_uri": "https://localhost:8080/"
        },
        "id": "vFHXWDupxxsw",
        "outputId": "b8c172ab-deb4-4b22-cede-0ca54ed089ab"
      },
      "execution_count": null,
      "outputs": [
        {
          "output_type": "stream",
          "name": "stdout",
          "text": [
            "[11 17 19 28]\n"
          ]
        }
      ]
    },
    {
      "cell_type": "code",
      "source": [
        "import scipy.signal\n",
        "\n",
        "def conv2d(X, W, p=(0, 0), s=(1, 1)):\n",
        "    W_rot = np.array(W)[::-1, ::-1]\n",
        "    X_org = np.array(X)\n",
        "    n1 = X_org.shape[0] + 2*p[0]\n",
        "    n2 = X_org.shape[1] + 2*p[1]\n",
        "\n",
        "    ## make zero matrix with padded size.\n",
        "    X_padded = np.zeros(shape=(n1, n2))\n",
        "\n",
        "    ## replace the inner part of the matrix with the original matrix\n",
        "    X_padded[p[0]:p[0]+X_org.shape[0], p[1]:p[1]+X_org.shape[1]] = X_org\n",
        "\n",
        "    res = []\n",
        "    for i in range(0, (X_padded.shape[0]-W_rot.shape[0])+1, 1):\n",
        "        res.append([])\n",
        "        for j in range(0, (X_padded.shape[1] - W_rot.shape[1])+1, 1):\n",
        "\n",
        "            # Select the sub-field (matrix) for convolution calculation\n",
        "            X_sub = X_padded[i:i + W_rot.shape[0], j:j+W_rot.shape[1]]\n",
        "            res[-1].append(np.sum(X_sub * W_rot))\n",
        "    return(np.array(res))"
      ],
      "metadata": {
        "id": "NRKzCpiQx-XX"
      },
      "execution_count": null,
      "outputs": []
    },
    {
      "cell_type": "code",
      "source": [
        "X = [\n",
        "    [1, 2, 3],\n",
        "    [4, 5, 6],\n",
        "    [7, 8, 9]\n",
        "]\n",
        "\n",
        "W = [\n",
        "    [1, 0, 3],\n",
        "    [1, 2, 1],\n",
        "    [0, 1, 1]\n",
        "]\n",
        "\n",
        "print('Conv2d Implementation:\\n', conv2d(X, W, p=(1, 1), s = (1, 1)))"
      ],
      "metadata": {
        "id": "OMas5r_LugkK",
        "outputId": "6da03c96-9a6f-4852-c240-6caabbe9cd55",
        "colab": {
          "base_uri": "https://localhost:8080/"
        }
      },
      "execution_count": null,
      "outputs": [
        {
          "output_type": "stream",
          "name": "stdout",
          "text": [
            "Conv2d Implementation:\n",
            " [[ 9. 26. 23.]\n",
            " [22. 53. 46.]\n",
            " [26. 41. 37.]]\n"
          ]
        }
      ]
    },
    {
      "cell_type": "code",
      "source": [],
      "metadata": {
        "id": "MDCCLQwDzpaJ"
      },
      "execution_count": null,
      "outputs": []
    },
    {
      "cell_type": "markdown",
      "source": [
        "파이토치를 사용하여 심층 합성곱 신경망 구현"
      ],
      "metadata": {
        "id": "ENh8CbOcD7AV"
      }
    },
    {
      "cell_type": "code",
      "source": [
        "import torch\n",
        "import torchvision\n",
        "from torchvision import transforms\n",
        "image_path = './'\n",
        "transform = transforms.Compose([transforms.ToTensor()])\n",
        "mnist_dataset = torchvision.datasets.MNIST(root=image_path,\n",
        "                                           train=True,\n",
        "                                           transform=transform,\n",
        "                                           download=True)\n",
        "\n",
        "from torch.utils.data import Subset\n",
        "mnist_valid_dataset = Subset(mnist_dataset, torch.arange(10000))\n",
        "mnist_train_dataset = Subset(mnist_dataset, torch.arange(10000, len(mnist_dataset)))\n",
        "mnist_test_dataset = torchvision.datasets.MNIST(root=image_path,\n",
        "                                                train=False,\n",
        "                                                transform=transform,\n",
        "                                                download=False)\n"
      ],
      "metadata": {
        "id": "4gaexc2YD-_R"
      },
      "execution_count": 5,
      "outputs": []
    },
    {
      "cell_type": "code",
      "source": [
        "from torch.utils.data import DataLoader\n",
        "\n",
        "batch_size = 64\n",
        "torch.manual_seed(1)\n",
        "train_dl = DataLoader(mnist_train_dataset, batch_size, shuffle=True)\n",
        "valid_dl = DataLoader(mnist_valid_dataset, batch_size, shuffle=False)"
      ],
      "metadata": {
        "id": "XtioDNzUFIus"
      },
      "execution_count": 6,
      "outputs": []
    },
    {
      "cell_type": "markdown",
      "source": [
        "Constructing a CNN in PyTorch"
      ],
      "metadata": {
        "id": "DhV236y_KtBq"
      }
    },
    {
      "cell_type": "code",
      "source": [],
      "metadata": {
        "id": "QglORHF9KscL"
      },
      "execution_count": null,
      "outputs": []
    },
    {
      "cell_type": "code",
      "source": [],
      "metadata": {
        "id": "ufbQ-0bgKoY5"
      },
      "execution_count": null,
      "outputs": []
    }
  ]
}