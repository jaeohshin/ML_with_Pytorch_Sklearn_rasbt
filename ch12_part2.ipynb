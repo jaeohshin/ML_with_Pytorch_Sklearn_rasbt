{
  "nbformat": 4,
  "nbformat_minor": 0,
  "metadata": {
    "colab": {
      "provenance": [],
      "gpuType": "T4",
      "authorship_tag": "ABX9TyONg9TEVDcICzeW0OCIAaXG",
      "include_colab_link": true
    },
    "kernelspec": {
      "name": "python3",
      "display_name": "Python 3"
    },
    "language_info": {
      "name": "python"
    },
    "accelerator": "GPU"
  },
  "cells": [
    {
      "cell_type": "markdown",
      "metadata": {
        "id": "view-in-github",
        "colab_type": "text"
      },
      "source": [
        "<a href=\"https://colab.research.google.com/github/jaeohshin/ML_with_Pytorch_Sklearn_rasbt/blob/main/ch12_part2.ipynb\" target=\"_parent\"><img src=\"https://colab.research.google.com/assets/colab-badge.svg\" alt=\"Open In Colab\"/></a>"
      ]
    },
    {
      "cell_type": "code",
      "execution_count": null,
      "metadata": {
        "id": "YPAM0hjwvo7e"
      },
      "outputs": [],
      "source": [
        "import torch\n",
        "import numpy as np\n",
        "import matplotlib.pyplot as plt"
      ]
    },
    {
      "cell_type": "code",
      "source": [
        "x_train = np.arange(10, dtype='float32').reshape((10,1))\n",
        "y_train = np.array([1.0, 1.3, 3.1, 2.0, 5.0, 6.3, 6.6,\n",
        "                    7.4, 8.0, 9.0], dtype='float32')\n",
        "\n",
        "plt.plot(x_train, y_train, 'o', markersize=10)\n",
        "plt.xlabel('x')\n",
        "plt.ylabel('y')\n",
        "\n",
        "plt.show()"
      ],
      "metadata": {
        "colab": {
          "base_uri": "https://localhost:8080/",
          "height": 449
        },
        "id": "w-GYOMsLoad2",
        "outputId": "0cd3b0c8-47eb-49d8-cde0-1fd0914befc6"
      },
      "execution_count": null,
      "outputs": [
        {
          "output_type": "display_data",
          "data": {
            "text/plain": [
              "<Figure size 640x480 with 1 Axes>"
            ],
            "image/png": "[encoded data removed]"
          },
          "metadata": {}
        }
      ]
    },
    {
      "cell_type": "code",
      "source": [
        "from torch.utils.data import TensorDataset\n",
        "from torch.utils.data import DataLoader\n",
        "\n",
        "x_train_norm = (x_train - np.mean(x_train)) / np.std(x_train)\n",
        "x_train_norm = torch.from_numpy(x_train_norm)\n",
        "\n",
        "y_train = torch.from_numpy(y_train).float()\n",
        "\n",
        "train_ds = TensorDataset(x_train_norm, y_train)\n",
        "\n",
        "batch_size = 1\n",
        "train_dl = DataLoader(train_ds, batch_size, shuffle=True)"
      ],
      "metadata": {
        "id": "mjEaj6N5pGOc"
      },
      "execution_count": null,
      "outputs": []
    },
    {
      "cell_type": "code",
      "source": [
        "torch.manual_seed(1)\n",
        "weight = torch.randn(1)\n",
        "weight.requires_grad_()\n",
        "bias = torch.zeros(1, requires_grad=True)\n",
        "\n",
        "def model(xb):\n",
        "    return xb @ weight + bias\n",
        "\n",
        "def loss_fn(input, target):\n",
        "    return (input-target).pow(2).mean()\n",
        "\n",
        "\n",
        "learning_rate = 0.001\n",
        "num_epochs = 200\n",
        "log_epochs = 10\n",
        "\n",
        "for epoch in range(num_epochs):\n",
        "    for x_batch, y_batch in train_dl:\n",
        "        pred = model(x_batch)\n",
        "        loss = loss_fn(pred, y_batch)\n",
        "        loss.backward()\n",
        "\n",
        "        with torch.no_grad():\n",
        "            weight -= weight.grad * learning_rate\n",
        "            bias -= bias.grad * learning_rate\n",
        "            weight.grad.zero_()\n",
        "            bias.grad.zero_()\n",
        "\n",
        "    if epoch % log_epochs == 0 :\n",
        "        print(f'Epoch {epoch} Loss {loss.item():.4f}')"
      ],
      "metadata": {
        "colab": {
          "base_uri": "https://localhost:8080/"
        },
        "id": "Hvha4IW7qlh9",
        "outputId": "d78411f8-9088-4c6b-be3e-2fe5a2ba2e22"
      },
      "execution_count": null,
      "outputs": [
        {
          "output_type": "stream",
          "name": "stdout",
          "text": [
            "Epoch 0 Loss 45.0782\n",
            "Epoch 10 Loss 26.4366\n",
            "Epoch 20 Loss 1.5918\n",
            "Epoch 30 Loss 14.1307\n",
            "Epoch 40 Loss 11.6038\n",
            "Epoch 50 Loss 6.3084\n",
            "Epoch 60 Loss 0.6349\n",
            "Epoch 70 Loss 3.1374\n",
            "Epoch 80 Loss 1.9999\n",
            "Epoch 90 Loss 0.3133\n",
            "Epoch 100 Loss 0.7653\n",
            "Epoch 110 Loss 1.0039\n",
            "Epoch 120 Loss 0.0235\n",
            "Epoch 130 Loss 0.5176\n",
            "Epoch 140 Loss 0.0759\n",
            "Epoch 150 Loss 1.8789\n",
            "Epoch 160 Loss 0.0008\n",
            "Epoch 170 Loss 0.0866\n",
            "Epoch 180 Loss 0.0646\n",
            "Epoch 190 Loss 0.0011\n"
          ]
        }
      ]
    },
    {
      "cell_type": "code",
      "source": [
        "print ('Final parameters:', weight.item(), bias.item())\n",
        "\n",
        "x_test = np.linspace(0, 9, num=100, dtype='float32').reshape(-1, 1)\n",
        "x_test_norm = (x_test - np.mean(x_train)) / np.std(x_train)\n",
        "x_test_norm = torch.from_numpy(x_test_norm)\n",
        "y_pred = model(x_test_norm).detach().numpy()\n",
        "\n",
        "fig = plt.figure(figsize=(12, 5))\n",
        "ax = fig.add_subplot(1, 2, 1)\n",
        "plt.plot(x_train_norm, y_train, 'o', markersize=10)\n",
        "plt.plot(x_test_norm, y_pred, '--', lw=2)\n",
        "plt.legend(['Training examples', 'Linear Reg.'], fontsize=15)\n",
        "ax.set_xlabel('x', size=15)\n",
        "ax.set_ylabel('y', size=15)\n",
        "plt.show()"
      ],
      "metadata": {
        "colab": {
          "base_uri": "https://localhost:8080/",
          "height": 488
        },
        "id": "MWYzrckysSY9",
        "outputId": "e511ef01-199b-47b5-8bd5-63a165923e2e"
      },
      "execution_count": null,
      "outputs": [
        {
          "output_type": "stream",
          "name": "stdout",
          "text": [
            "Final parameters: 2.6696107387542725 4.879678249359131\n"
          ]
        },
        {
          "output_type": "display_data",
          "data": {
            "text/plain": [
              "<Figure size 1200x500 with 1 Axes>"
            ],
            "image/png": "[encoded data removed]"
          },
          "metadata": {}
        }
      ]
    },
    {
      "cell_type": "code",
      "source": [],
      "metadata": {
        "id": "2SijtElFtrtq"
      },
      "execution_count": null,
      "outputs": []
    },
    {
      "cell_type": "code",
      "source": [
        "import torch.nn as nn\n",
        "\n",
        "input_size = 1\n",
        "output_size = 1\n",
        "model = nn.Linear(input_size, output_size)\n",
        "\n",
        "loss_fn = nn.MSELoss(reduction='mean')\n",
        "\n",
        "optimizer = torch.optim.SGD(model.parameters(), lr= learning_rate)\n",
        "\n",
        "for epoch in range(num_epochs):\n",
        "    for x_batch, y_batch in train_dl:\n",
        "        pred = model(x_batch)[:, 0]\n",
        "\n",
        "        loss = loss_fn(pred, y_batch)\n",
        "\n",
        "        loss.backward()\n",
        "\n",
        "        optimizer.step()\n",
        "\n",
        "        optimizer.zero_grad()\n",
        "\n",
        "    if epoch % log_epochs == 0 :\n",
        "        print(f'Epoch {epoch} Loss {loss.item():.4f}')\n"
      ],
      "metadata": {
        "colab": {
          "base_uri": "https://localhost:8080/"
        },
        "id": "-VyovIxNuakU",
        "outputId": "0dd0cc07-7ca5-4744-cd54-63409eab1296"
      },
      "execution_count": null,
      "outputs": [
        {
          "output_type": "stream",
          "name": "stdout",
          "text": [
            "Epoch 0 Loss 6.6399\n",
            "Epoch 10 Loss 9.9786\n",
            "Epoch 20 Loss 14.8893\n",
            "Epoch 30 Loss 1.2181\n",
            "Epoch 40 Loss 0.0875\n",
            "Epoch 50 Loss 7.2953\n",
            "Epoch 60 Loss 4.0330\n",
            "Epoch 70 Loss 3.5374\n",
            "Epoch 80 Loss 0.0118\n",
            "Epoch 90 Loss 0.2742\n",
            "Epoch 100 Loss 1.2748\n",
            "Epoch 110 Loss 0.7202\n",
            "Epoch 120 Loss 0.6854\n",
            "Epoch 130 Loss 0.1486\n",
            "Epoch 140 Loss 0.2882\n",
            "Epoch 150 Loss 0.2050\n",
            "Epoch 160 Loss 0.0288\n",
            "Epoch 170 Loss 0.4469\n",
            "Epoch 180 Loss 0.0986\n",
            "Epoch 190 Loss 0.9830\n"
          ]
        }
      ]
    },
    {
      "cell_type": "code",
      "source": [
        "print('Final Parameters:', model.weight.item(), model.bias.item())"
      ],
      "metadata": {
        "colab": {
          "base_uri": "https://localhost:8080/"
        },
        "id": "rJunhVYxxDgh",
        "outputId": "5be05a96-1b44-462b-be24-746bf24d6679"
      },
      "execution_count": null,
      "outputs": [
        {
          "output_type": "stream",
          "name": "stdout",
          "text": [
            "Final Parameters: 2.6604113578796387 4.869062900543213\n"
          ]
        }
      ]
    },
    {
      "cell_type": "code",
      "source": [
        "x_test = np.linspace(0, 9, num=100, dtype='float32').reshape(-1, 1)\n",
        "x_test_norm = (x_test - np.mean(x_train)) / np.std(x_train)\n",
        "x_test_norm = torch.from_numpy(x_test_norm)\n",
        "y_pred = model(x_test_norm).detach().numpy()\n",
        "\n",
        "fig = plt.figure(figsize=(12, 5))\n",
        "ax = fig.add_subplot(1, 2, 1)\n",
        "plt.plot(x_train_norm, y_train, 'o', markersize=10)\n",
        "plt.plot(x_test_norm, y_pred, '--', lw=2)\n",
        "plt.legend(['Training examples', 'Linear Reg.'], fontsize=15)\n",
        "ax.set_xlabel('x', size=15)\n",
        "ax.set_ylabel('y', size=15)\n",
        "plt.show()"
      ],
      "metadata": {
        "colab": {
          "base_uri": "https://localhost:8080/",
          "height": 471
        },
        "id": "xnTptb8PxaAH",
        "outputId": "e8af5646-aaf5-4413-d88a-a65d20ed5a54"
      },
      "execution_count": null,
      "outputs": [
        {
          "output_type": "display_data",
          "data": {
            "text/plain": [
              "<Figure size 1200x500 with 1 Axes>"
            ],
            "image/png": "[encoded data removed]"
          },
          "metadata": {}
        }
      ]
    },
    {
      "cell_type": "code",
      "source": [],
      "metadata": {
        "id": "9N0SqTqLyCdB"
      },
      "execution_count": null,
      "outputs": []
    },
    {
      "cell_type": "markdown",
      "source": [
        "Multilayer perceptron for classifying flowers in the Iris dataset"
      ],
      "metadata": {
        "id": "YOkyRHsiF9Yj"
      }
    },
    {
      "cell_type": "code",
      "source": [
        "from sklearn.datasets import load_iris\n",
        "from sklearn.model_selection import train_test_split\n",
        "import numpy as np\n",
        "import torch\n",
        "import torch.nn as nn\n",
        "\n",
        "iris = load_iris()\n",
        "x = iris['data']\n",
        "y = iris['target']\n",
        "\n",
        "x_train, x_test, y_train, y_test = train_test_split(\n",
        "    x, y, test_size=1./3, random_state=1)"
      ],
      "metadata": {
        "id": "TzKZUJEzGEr3"
      },
      "execution_count": null,
      "outputs": []
    },
    {
      "cell_type": "code",
      "source": [
        "print(x_train.shape)\n",
        "#print(x_train[1])\n",
        "print(y_train.shape)\n",
        "#print(y_train[1])"
      ],
      "metadata": {
        "colab": {
          "base_uri": "https://localhost:8080/"
        },
        "id": "wBHjAUOMMBcO",
        "outputId": "8c3612f0-8710-4b4b-80cf-e45917a93ae0"
      },
      "execution_count": null,
      "outputs": [
        {
          "output_type": "stream",
          "name": "stdout",
          "text": [
            "(100, 4)\n",
            "(100,)\n"
          ]
        }
      ]
    },
    {
      "cell_type": "code",
      "source": [
        "from torch.utils.data import TensorDataset\n",
        "from torch.utils.data import DataLoader\n",
        "\n",
        "x_train_norm = (x_train - np.mean(x_train)) / np.std(x_train)\n",
        "x_train_norm = torch.from_numpy(x_train_norm).float()\n",
        "y_train_norm = torch.from_numpy(y_train)\n",
        "\n",
        "train_ds = TensorDataset(x_train_norm, y_train_norm)\n",
        "\n",
        "torch.manual_seed(1)\n",
        "batch_size = 2\n",
        "train_dl = DataLoader(train_ds, batch_size, shuffle=True)\n"
      ],
      "metadata": {
        "id": "-jV4tMxrGlsE"
      },
      "execution_count": null,
      "outputs": []
    },
    {
      "cell_type": "code",
      "source": [
        "#print(x_train_norm.shape)\n",
        "#print(x_train_norm)"
      ],
      "metadata": {
        "id": "BkOk4MKwMpxu"
      },
      "execution_count": null,
      "outputs": []
    },
    {
      "cell_type": "code",
      "source": [
        "class Model(nn.Module):\n",
        "    def __init__(self, input_size, hidden_size, output_size):\n",
        "        super().__init__()\n",
        "        self.layer1 = nn.Linear(input_size, hidden_size)\n",
        "        self.layer2 = nn.Linear(hidden_size, output_size)\n",
        "\n",
        "    def forward(self, x):\n",
        "        x = self.layer1(x)\n",
        "        x = nn.Sigmoid()(x)\n",
        "        x= self.layer2(x)\n",
        "        x= nn.Softmax(dim=1)(x) # meaning of dim=1?\n",
        "        return x\n",
        "\n",
        "input_size = x_train_norm.shape[1]\n",
        "hidden_size = 16\n",
        "output_size = 3\n",
        "\n",
        "model = Model(input_size, hidden_size, output_size)\n",
        "\n",
        "learning_rate = 0.001\n",
        "\n",
        "loss_fn = nn.CrossEntropyLoss()\n",
        "\n",
        "optimizer = torch.optim.Adam(model.parameters(), lr= learning_rate)"
      ],
      "metadata": {
        "id": "-nADj3bTHvZT"
      },
      "execution_count": null,
      "outputs": []
    },
    {
      "cell_type": "code",
      "source": [
        "num_epochs = 200\n",
        "loss_hist = [0] * num_epochs\n",
        "accuracy_hist = [0] * num_epochs\n",
        "\n",
        "for epoch in range(num_epochs):\n",
        "\n",
        "    for x_batch, y_batch in train_dl:\n",
        "        pred = model(x_batch)\n",
        "        loss = loss_fn(pred, y_batch.long())\n",
        "        loss.backward()\n",
        "        optimizer.step()\n",
        "        optimizer.zero_grad()\n",
        "\n",
        "        loss_hist[epoch] += loss.item()*y_batch.size(0)\n",
        "        is_correct = (torch.argmax(pred, dim=1) == y_batch).float()\n",
        "        accuracy_hist[epoch] += is_correct.sum()\n",
        "\n",
        "    loss_hist[epoch] /= len(train_dl.dataset)\n",
        "    accuracy_hist[epoch] /= len(train_dl.dataset)"
      ],
      "metadata": {
        "id": "ytGgtGVDL9Rd"
      },
      "execution_count": null,
      "outputs": []
    },
    {
      "cell_type": "code",
      "source": [
        "fig = plt.figure(figsize=(12, 5))\n",
        "ax = fig.add_subplot(1, 2, 1)\n",
        "ax.plot(loss_hist, lw=3)\n",
        "ax.set_xbound(0, 100)\n",
        "ax.set_title('Training loss', size=15)\n",
        "ax.set_xlabel('Epoch', size=15)\n",
        "ax.tick_params(axis='both', which='major', labelsize=15)\n",
        "\n",
        "ax = fig.add_subplot(1, 2, 2)\n",
        "ax.plot(accuracy_hist, lw=3)\n",
        "ax.set_xbound(0, 100)\n",
        "ax.set_title('Training Accuracy', size=15)\n",
        "ax.set_xlabel('Epoch', size=15)\n",
        "ax.tick_params(axis='both', which='major', labelsize=15)\n"
      ],
      "metadata": {
        "id": "N2L5b_gzPuph",
        "outputId": "9e4c9648-ce82-4a03-c974-b01c5b0243cb",
        "colab": {
          "base_uri": "https://localhost:8080/",
          "height": 391
        }
      },
      "execution_count": null,
      "outputs": [
        {
          "output_type": "display_data",
          "data": {
            "text/plain": [
              "<Figure size 1200x500 with 2 Axes>"
            ],
            "image/png": "[encoded data removed]"
          },
          "metadata": {}
        }
      ]
    },
    {
      "cell_type": "code",
      "source": [
        "\n",
        "x_test_norm = (x_test - np.mean(x_train))/np.std(x_train)\n",
        "x_test_norm = torch.from_numpy(x_test_norm).float()\n",
        "y_test = torch.from_numpy(y_test)\n",
        "pred_test = model(x_test_norm)\n",
        "\n",
        "correct = (torch.argmax(pred_test, dim=1) == y_test).float()\n",
        "accuracy = correct.mean()\n",
        "\n",
        "print(f'Test Acc..: {accuracy:.4f}')"
      ],
      "metadata": {
        "id": "iqV2YPH5Q6Oo",
        "outputId": "9bfbee11-54a1-48c4-c1ff-d31a4cb0ef7d",
        "colab": {
          "base_uri": "https://localhost:8080/"
        }
      },
      "execution_count": null,
      "outputs": [
        {
          "output_type": "stream",
          "name": "stdout",
          "text": [
            "Test Acc..: 0.9800\n"
          ]
        }
      ]
    },
    {
      "cell_type": "code",
      "source": [
        "\n",
        "path = 'iris_classifier.pt'\n",
        "torch.save(model, path)"
      ],
      "metadata": {
        "id": "ExlnYgRIURx_"
      },
      "execution_count": null,
      "outputs": []
    },
    {
      "cell_type": "code",
      "source": [
        "model_new = torch.load(path)\n",
        "model_new.eval()"
      ],
      "metadata": {
        "id": "2Sti3-ntVIdv",
        "outputId": "17f9ffab-143f-493a-be2f-3ad8d38999b5",
        "colab": {
          "base_uri": "https://localhost:8080/"
        }
      },
      "execution_count": null,
      "outputs": [
        {
          "output_type": "execute_result",
          "data": {
            "text/plain": [
              "Model(\n",
              "  (layer1): Linear(in_features=4, out_features=16, bias=True)\n",
              "  (layer2): Linear(in_features=16, out_features=3, bias=True)\n",
              ")"
            ]
          },
          "metadata": {},
          "execution_count": 60
        }
      ]
    },
    {
      "cell_type": "code",
      "source": [
        "pred_test = model_new(x_test_norm)\n",
        "\n",
        "correct = (torch.argmax(pred_test, dim=1) == y_test).float()\n",
        "accuracy = correct.mean()\n",
        "\n",
        "print(f'Test Acc.: {accuracy: .4f}')"
      ],
      "metadata": {
        "id": "HtdMKfvcVNHU",
        "outputId": "5f9506e2-1c3d-48fb-b3c9-e37663780a5b",
        "colab": {
          "base_uri": "https://localhost:8080/"
        }
      },
      "execution_count": null,
      "outputs": [
        {
          "output_type": "stream",
          "name": "stdout",
          "text": [
            "Test Acc.:  0.9800\n"
          ]
        }
      ]
    },
    {
      "cell_type": "code",
      "source": [
        "path = 'iris_classifier_state.pt'\n",
        "torch.save(model.state_dict(), path)\n",
        "\n",
        "model_new = Model(input_size, hidden_size, output_size)\n",
        "model_new.load_state_dict(torch.load(path))"
      ],
      "metadata": {
        "id": "wGoxD4dFVnNx",
        "outputId": "4b45b83a-c6dc-479d-9ca7-36e42a2de895",
        "colab": {
          "base_uri": "https://localhost:8080/"
        }
      },
      "execution_count": null,
      "outputs": [
        {
          "output_type": "execute_result",
          "data": {
            "text/plain": [
              "<All keys matched successfully>"
            ]
          },
          "metadata": {},
          "execution_count": 63
        }
      ]
    },
    {
      "cell_type": "markdown",
      "source": [
        "Activation functions"
      ],
      "metadata": {
        "id": "xylK_VPDnNo3"
      }
    },
    {
      "cell_type": "code",
      "source": [
        "import numpy as np\n",
        "x = np.array([1, 1.4, 2.5])\n",
        "w = np.array([0.4, 0.3, 0.5])\n",
        "\n",
        "def net_input(x, w):\n",
        "    return np.dot(x, w)\n",
        "\n",
        "def logistic(z):\n",
        "    return 1.0 / (1.0 + np.exp(-z))\n",
        "\n",
        "def logistic_activation(x, w):\n",
        "    z = net_input(x, w)\n",
        "    return logistic(z)\n",
        "\n",
        "print('P(y=1|x) = %.3f' % logistic_activation(x, w))"
      ],
      "metadata": {
        "id": "DEiLmQ8SV4SP",
        "outputId": "bfdd6f61-601e-4211-fd2e-83528346d99d",
        "colab": {
          "base_uri": "https://localhost:8080/"
        }
      },
      "execution_count": 1,
      "outputs": [
        {
          "output_type": "stream",
          "name": "stdout",
          "text": [
            "P(y=1|x) = 0.888\n"
          ]
        }
      ]
    },
    {
      "cell_type": "code",
      "source": [
        "W = np.array([[1.1, 1.2, 0.8, 0.4],\n",
        "              [0.2, 0.4, 1.0, 0.2],\n",
        "              [0.6, 1.5, 1.2, 0.7]])\n",
        "\n",
        "A = np.array([[1, 0.1, 0.4, 0.6]])\n",
        "Z = np.dot(W, A[0])\n",
        "\n",
        "y_probas = logistic(Z)\n",
        "print('Output units : \\n', Z)"
      ],
      "metadata": {
        "id": "vdUmXQEOofqC",
        "outputId": "7502ef24-4d6a-48d8-ac4f-0309af3e4c3a",
        "colab": {
          "base_uri": "https://localhost:8080/"
        }
      },
      "execution_count": 2,
      "outputs": [
        {
          "output_type": "stream",
          "name": "stdout",
          "text": [
            "Output units : \n",
            " [1.78 0.76 1.65]\n"
          ]
        }
      ]
    },
    {
      "cell_type": "code",
      "source": [
        "print('Unit output: \\n', y_probas)"
      ],
      "metadata": {
        "id": "NX1uPRnLplG1",
        "outputId": "9251f23f-cf42-4766-a629-62d40da7cf9d",
        "colab": {
          "base_uri": "https://localhost:8080/"
        }
      },
      "execution_count": 3,
      "outputs": [
        {
          "output_type": "stream",
          "name": "stdout",
          "text": [
            "Unit output: \n",
            " [0.85569687 0.68135373 0.83889105]\n"
          ]
        }
      ]
    },
    {
      "cell_type": "code",
      "source": [
        "y_class = np.argmax(Z, axis=0)\n",
        "print('Predicted class label: %d' %y_class)"
      ],
      "metadata": {
        "id": "V_6y5C89ps4H",
        "outputId": "353fb4bb-6532-415e-bdd6-bfe0f75ae132",
        "colab": {
          "base_uri": "https://localhost:8080/"
        }
      },
      "execution_count": 5,
      "outputs": [
        {
          "output_type": "stream",
          "name": "stdout",
          "text": [
            "Predicted class label: 0\n"
          ]
        }
      ]
    },
    {
      "cell_type": "code",
      "source": [],
      "metadata": {
        "id": "g44Jax18p-ZX"
      },
      "execution_count": null,
      "outputs": []
    }
  ]
}