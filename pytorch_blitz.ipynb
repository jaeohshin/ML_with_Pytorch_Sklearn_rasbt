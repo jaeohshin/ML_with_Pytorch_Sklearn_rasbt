{
  "nbformat": 4,
  "nbformat_minor": 0,
  "metadata": {
    "colab": {
      "provenance": [],
      "gpuType": "T4",
      "authorship_tag": "ABX9TyOrkiU5xqhoRmUOIQZtV9+o",
      "include_colab_link": true
    },
    "kernelspec": {
      "name": "python3",
      "display_name": "Python 3"
    },
    "language_info": {
      "name": "python"
    },
    "accelerator": "GPU"
  },
  "cells": [
    {
      "cell_type": "markdown",
      "metadata": {
        "id": "view-in-github",
        "colab_type": "text"
      },
      "source": [
        "<a href=\"https://colab.research.google.com/github/jaeohshin/ML_with_Pytorch_Sklearn_rasbt/blob/main/pytorch_blitz.ipynb\" target=\"_parent\"><img src=\"https://colab.research.google.com/assets/colab-badge.svg\" alt=\"Open In Colab\"/></a>"
      ]
    },
    {
      "cell_type": "markdown",
      "source": [
        "Pytorch-bliz 60 min.\n",
        "\n",
        "https://pytorch.org/tutorials/beginner/blitz/\n",
        "\n",
        "\n"
      ],
      "metadata": {
        "id": "aCUvUcCYBr5q"
      }
    },
    {
      "cell_type": "code",
      "execution_count": null,
      "metadata": {
        "id": "wfTVQHJXusZT"
      },
      "outputs": [],
      "source": [
        "import torch\n",
        "import numpy as np"
      ]
    },
    {
      "cell_type": "markdown",
      "source": [
        "## Basics of Tensor"
      ],
      "metadata": {
        "id": "3rs2_wagD64b"
      }
    },
    {
      "cell_type": "code",
      "source": [
        "data = [[1, 2], [3,4]]\n",
        "x_data = torch.tensor(data)"
      ],
      "metadata": {
        "id": "o8YsVRl3vPwA"
      },
      "execution_count": null,
      "outputs": []
    },
    {
      "cell_type": "code",
      "source": [
        "np_array = np.array(data)\n",
        "x_np = torch.from_numpy(np_array)"
      ],
      "metadata": {
        "id": "wk-6TJd1v6Dx"
      },
      "execution_count": null,
      "outputs": []
    },
    {
      "cell_type": "code",
      "source": [
        "print(np_array)"
      ],
      "metadata": {
        "colab": {
          "base_uri": "https://localhost:8080/"
        },
        "id": "s8NcJDD2v8aO",
        "outputId": "bee3b141-1688-4b43-f5ac-5d044efeee3e"
      },
      "execution_count": null,
      "outputs": [
        {
          "output_type": "stream",
          "name": "stdout",
          "text": [
            "[[1 2]\n",
            " [3 4]]\n"
          ]
        }
      ]
    },
    {
      "cell_type": "code",
      "source": [
        "print(x_np)"
      ],
      "metadata": {
        "colab": {
          "base_uri": "https://localhost:8080/"
        },
        "id": "Yr0gHkn7wMSp",
        "outputId": "5a8edb2e-a4b3-411a-f076-74a6b3dac61a"
      },
      "execution_count": null,
      "outputs": [
        {
          "output_type": "stream",
          "name": "stdout",
          "text": [
            "tensor([[1, 2],\n",
            "        [3, 4]])\n"
          ]
        }
      ]
    },
    {
      "cell_type": "code",
      "source": [
        "x_ones = torch.ones_like(x_data)"
      ],
      "metadata": {
        "id": "BX8Kwi2VwXON"
      },
      "execution_count": null,
      "outputs": []
    },
    {
      "cell_type": "code",
      "source": [
        "print(x_ones)"
      ],
      "metadata": {
        "colab": {
          "base_uri": "https://localhost:8080/"
        },
        "id": "y6iZ2_D8wdrV",
        "outputId": "85c6038d-5ff6-42e1-848e-3b724fc6aeb8"
      },
      "execution_count": null,
      "outputs": [
        {
          "output_type": "stream",
          "name": "stdout",
          "text": [
            "tensor([[1, 1],\n",
            "        [1, 1]])\n"
          ]
        }
      ]
    },
    {
      "cell_type": "code",
      "source": [
        "x_rand = torch.rand_like(x_data, dtype=torch.float)\n",
        "print(f\"Random Tensor: \\n {x_rand} \\n\")"
      ],
      "metadata": {
        "colab": {
          "base_uri": "https://localhost:8080/"
        },
        "id": "Aav--LbdwfIR",
        "outputId": "c3060f4e-9325-4f53-ce99-4488aa942fe8"
      },
      "execution_count": null,
      "outputs": [
        {
          "output_type": "stream",
          "name": "stdout",
          "text": [
            "Random Tensor: \n",
            " tensor([[0.8359, 0.5763],\n",
            "        [0.9678, 0.5279]]) \n",
            "\n"
          ]
        }
      ]
    },
    {
      "cell_type": "code",
      "source": [
        "shape = (2, 3, )\n",
        "rand_tensor = torch.rand(shape)\n",
        "print(f'rand_tensor: \\n {rand_tensor}\\n')"
      ],
      "metadata": {
        "colab": {
          "base_uri": "https://localhost:8080/"
        },
        "id": "w8INNvxxw8GY",
        "outputId": "5b538776-b79f-498e-865d-063ec0f841d8"
      },
      "execution_count": null,
      "outputs": [
        {
          "output_type": "stream",
          "name": "stdout",
          "text": [
            "rand_tensor: \n",
            " tensor([[0.2375, 0.4965, 0.5551],\n",
            "        [0.7973, 0.4030, 0.0877]])\n",
            "\n"
          ]
        }
      ]
    },
    {
      "cell_type": "code",
      "source": [
        "shape = (2, 3)\n",
        "rand_tensor = torch.rand(shape)\n",
        "print(f'rand_tensor: \\n {rand_tensor}\\n')"
      ],
      "metadata": {
        "colab": {
          "base_uri": "https://localhost:8080/"
        },
        "id": "4hqiFHqgxX-W",
        "outputId": "cb3c8c8d-8314-4d0c-de9b-9c12c0ca86ae"
      },
      "execution_count": null,
      "outputs": [
        {
          "output_type": "stream",
          "name": "stdout",
          "text": [
            "rand_tensor: \n",
            " tensor([[0.0597, 0.9668, 0.5168],\n",
            "        [0.1105, 0.7926, 0.6340]])\n",
            "\n"
          ]
        }
      ]
    },
    {
      "cell_type": "code",
      "source": [
        "tensor = torch.rand(3, 4)"
      ],
      "metadata": {
        "id": "hcqIV-Qjxnj8"
      },
      "execution_count": null,
      "outputs": []
    },
    {
      "cell_type": "code",
      "source": [
        "print(f\"Shape of tensor: {tensor.shape}\")\n",
        "print(f\"Datatype of tensor: {tensor.dtype}\")\n",
        "print(f\"Device tensor is stored on: {tensor.device}\")"
      ],
      "metadata": {
        "colab": {
          "base_uri": "https://localhost:8080/"
        },
        "id": "0dy6l85oyqDQ",
        "outputId": "a8d26240-ddcf-41b4-cd08-f5058a57d3fc"
      },
      "execution_count": null,
      "outputs": [
        {
          "output_type": "stream",
          "name": "stdout",
          "text": [
            "Shape of tensor: torch.Size([3, 4])\n",
            "Datatype of tensor: torch.float32\n",
            "Device tensor is stored on: cpu\n"
          ]
        }
      ]
    },
    {
      "cell_type": "code",
      "source": [
        "if torch.cuda.is_available():\n",
        "    tensor = tensor.to('cuda')\n",
        "    print(f\"Device tensor is stored on: {tensor.device}\")"
      ],
      "metadata": {
        "id": "ZnhrhIsky24k"
      },
      "execution_count": null,
      "outputs": []
    },
    {
      "cell_type": "code",
      "source": [
        "tensor = torch.ones(4, 4, )\n",
        "print(tensor)"
      ],
      "metadata": {
        "colab": {
          "base_uri": "https://localhost:8080/"
        },
        "id": "EJXYvdmMzUzi",
        "outputId": "1824c21d-daba-456a-8395-638d87178013"
      },
      "execution_count": null,
      "outputs": [
        {
          "output_type": "stream",
          "name": "stdout",
          "text": [
            "tensor([[1., 1., 1., 1.],\n",
            "        [1., 1., 1., 1.],\n",
            "        [1., 1., 1., 1.],\n",
            "        [1., 1., 1., 1.]])\n"
          ]
        }
      ]
    },
    {
      "cell_type": "code",
      "source": [
        "tensor[:, 1]=0\n",
        "print(tensor)"
      ],
      "metadata": {
        "colab": {
          "base_uri": "https://localhost:8080/"
        },
        "id": "LHugvK8s006X",
        "outputId": "e9dbef4b-767f-4a6c-ef36-e6dbaf78d28a"
      },
      "execution_count": null,
      "outputs": [
        {
          "output_type": "stream",
          "name": "stdout",
          "text": [
            "tensor([[1., 0., 1., 1.],\n",
            "        [1., 0., 1., 1.],\n",
            "        [1., 0., 1., 1.],\n",
            "        [1., 0., 1., 1.]])\n"
          ]
        }
      ]
    },
    {
      "cell_type": "code",
      "source": [
        "t1 = torch.cat([tensor, tensor, tensor], dim=1)\n",
        "print(t1)"
      ],
      "metadata": {
        "colab": {
          "base_uri": "https://localhost:8080/"
        },
        "id": "nwbm3V_T05Ch",
        "outputId": "addecd80-510e-4a72-f92e-71f42ee3b38e"
      },
      "execution_count": null,
      "outputs": [
        {
          "output_type": "stream",
          "name": "stdout",
          "text": [
            "tensor([[1., 0., 1., 1., 1., 0., 1., 1., 1., 0., 1., 1.],\n",
            "        [1., 0., 1., 1., 1., 0., 1., 1., 1., 0., 1., 1.],\n",
            "        [1., 0., 1., 1., 1., 0., 1., 1., 1., 0., 1., 1.],\n",
            "        [1., 0., 1., 1., 1., 0., 1., 1., 1., 0., 1., 1.]])\n"
          ]
        }
      ]
    },
    {
      "cell_type": "code",
      "source": [
        "print(f\"tensor.mul(tensor) \\n {tensor.mul(tensor)} \\n\")"
      ],
      "metadata": {
        "colab": {
          "base_uri": "https://localhost:8080/"
        },
        "id": "CE8DAkEk1MgQ",
        "outputId": "56112dd6-efe0-4670-d177-bdc1ea4b751d"
      },
      "execution_count": null,
      "outputs": [
        {
          "output_type": "stream",
          "name": "stdout",
          "text": [
            "tensor.mul(tensor) \n",
            " tensor([[1., 0., 1., 1.],\n",
            "        [1., 0., 1., 1.],\n",
            "        [1., 0., 1., 1.],\n",
            "        [1., 0., 1., 1.]]) \n",
            "\n"
          ]
        }
      ]
    },
    {
      "cell_type": "code",
      "source": [
        "print(tensor*tensor)"
      ],
      "metadata": {
        "colab": {
          "base_uri": "https://localhost:8080/"
        },
        "id": "-qO4uADX2LBO",
        "outputId": "0c08ed46-16a4-40f6-b684-ddff989539b3"
      },
      "execution_count": null,
      "outputs": [
        {
          "output_type": "stream",
          "name": "stdout",
          "text": [
            "tensor([[1., 0., 1., 1.],\n",
            "        [1., 0., 1., 1.],\n",
            "        [1., 0., 1., 1.],\n",
            "        [1., 0., 1., 1.]])\n"
          ]
        }
      ]
    },
    {
      "cell_type": "code",
      "source": [
        "print(tensor@tensor.T)"
      ],
      "metadata": {
        "colab": {
          "base_uri": "https://localhost:8080/"
        },
        "id": "FEFueJtU3Qmd",
        "outputId": "d8c1c182-7ef3-47d2-934b-1926e1939622"
      },
      "execution_count": null,
      "outputs": [
        {
          "output_type": "stream",
          "name": "stdout",
          "text": [
            "tensor([[3., 3., 3., 3.],\n",
            "        [3., 3., 3., 3.],\n",
            "        [3., 3., 3., 3.],\n",
            "        [3., 3., 3., 3.]])\n"
          ]
        }
      ]
    },
    {
      "cell_type": "code",
      "source": [
        "print(tensor.matmul(tensor.T))"
      ],
      "metadata": {
        "colab": {
          "base_uri": "https://localhost:8080/"
        },
        "id": "pcel-rmX3UZ6",
        "outputId": "0eddc527-98d3-485b-9178-2bf13c6d9096"
      },
      "execution_count": null,
      "outputs": [
        {
          "output_type": "stream",
          "name": "stdout",
          "text": [
            "tensor([[3., 3., 3., 3.],\n",
            "        [3., 3., 3., 3.],\n",
            "        [3., 3., 3., 3.],\n",
            "        [3., 3., 3., 3.]])\n"
          ]
        }
      ]
    },
    {
      "cell_type": "code",
      "source": [
        "print(tensor, \"\\n\")"
      ],
      "metadata": {
        "colab": {
          "base_uri": "https://localhost:8080/"
        },
        "id": "ycMvbRbw3cNS",
        "outputId": "cb9c9cee-c341-4635-a889-ffaa9b3e8256"
      },
      "execution_count": null,
      "outputs": [
        {
          "output_type": "stream",
          "name": "stdout",
          "text": [
            "tensor([[1., 0., 1., 1.],\n",
            "        [1., 0., 1., 1.],\n",
            "        [1., 0., 1., 1.],\n",
            "        [1., 0., 1., 1.]]) \n",
            "\n"
          ]
        }
      ]
    },
    {
      "cell_type": "code",
      "source": [
        "print(tensor)"
      ],
      "metadata": {
        "colab": {
          "base_uri": "https://localhost:8080/"
        },
        "id": "o8t2hOS74mC2",
        "outputId": "462a4de0-79c9-4add-9a3e-68cd461ff309"
      },
      "execution_count": null,
      "outputs": [
        {
          "output_type": "stream",
          "name": "stdout",
          "text": [
            "tensor([[1., 0., 1., 1.],\n",
            "        [1., 0., 1., 1.],\n",
            "        [1., 0., 1., 1.],\n",
            "        [1., 0., 1., 1.]])\n"
          ]
        }
      ]
    },
    {
      "cell_type": "code",
      "source": [
        "print(tensor.add_(5))"
      ],
      "metadata": {
        "colab": {
          "base_uri": "https://localhost:8080/"
        },
        "id": "TuxSfFy04ok8",
        "outputId": "ab81dea0-d2a9-4253-882e-73368e477c52"
      },
      "execution_count": null,
      "outputs": [
        {
          "output_type": "stream",
          "name": "stdout",
          "text": [
            "tensor([[6., 5., 6., 6.],\n",
            "        [6., 5., 6., 6.],\n",
            "        [6., 5., 6., 6.],\n",
            "        [6., 5., 6., 6.]])\n"
          ]
        }
      ]
    },
    {
      "cell_type": "code",
      "source": [
        "print(tensor)"
      ],
      "metadata": {
        "colab": {
          "base_uri": "https://localhost:8080/"
        },
        "id": "62PxTxLw4t_M",
        "outputId": "e773de3a-4ec4-44a8-8794-5f2ff58e0086"
      },
      "execution_count": null,
      "outputs": [
        {
          "output_type": "stream",
          "name": "stdout",
          "text": [
            "tensor([[6., 5., 6., 6.],\n",
            "        [6., 5., 6., 6.],\n",
            "        [6., 5., 6., 6.],\n",
            "        [6., 5., 6., 6.]])\n"
          ]
        }
      ]
    },
    {
      "cell_type": "code",
      "source": [
        "t = torch.ones(5)\n",
        "print(f\"t: {t}\")\n",
        "n = t.numpy()\n",
        "print(f\"n: {n}\")"
      ],
      "metadata": {
        "colab": {
          "base_uri": "https://localhost:8080/"
        },
        "id": "pS41jRFz4vlC",
        "outputId": "d0983f2f-0cf7-4ed5-d7e5-c735f17c1016"
      },
      "execution_count": null,
      "outputs": [
        {
          "output_type": "stream",
          "name": "stdout",
          "text": [
            "t: tensor([1., 1., 1., 1., 1.])\n",
            "n: [1. 1. 1. 1. 1.]\n"
          ]
        }
      ]
    },
    {
      "cell_type": "code",
      "source": [
        "t.add_(1)\n",
        "print(t)\n",
        "print(n)"
      ],
      "metadata": {
        "colab": {
          "base_uri": "https://localhost:8080/"
        },
        "id": "OFD4IEFn9HsO",
        "outputId": "5a3151b8-bc43-4321-9821-f9c608ada7ae"
      },
      "execution_count": null,
      "outputs": [
        {
          "output_type": "stream",
          "name": "stdout",
          "text": [
            "tensor([2., 2., 2., 2., 2.])\n",
            "[2. 2. 2. 2. 2.]\n"
          ]
        }
      ]
    },
    {
      "cell_type": "code",
      "source": [
        "n = np.ones(5)\n",
        "t = torch.from_numpy(n)"
      ],
      "metadata": {
        "id": "pJc1XkiKAc1m"
      },
      "execution_count": null,
      "outputs": []
    },
    {
      "cell_type": "code",
      "source": [
        "np.add(n, 1, out=n)\n",
        "print(t)\n",
        "print(n)"
      ],
      "metadata": {
        "colab": {
          "base_uri": "https://localhost:8080/"
        },
        "id": "ceSj0PMsBK0s",
        "outputId": "62a7471e-e0cd-46a6-9f16-f2f49ef4d580"
      },
      "execution_count": null,
      "outputs": [
        {
          "output_type": "stream",
          "name": "stdout",
          "text": [
            "tensor([2., 2., 2., 2., 2.], dtype=torch.float64)\n",
            "[2. 2. 2. 2. 2.]\n"
          ]
        }
      ]
    },
    {
      "cell_type": "code",
      "source": [],
      "metadata": {
        "id": "GAzF0E8NBRGk"
      },
      "execution_count": null,
      "outputs": []
    },
    {
      "cell_type": "markdown",
      "source": [
        "## Autograd"
      ],
      "metadata": {
        "id": "xLhErNXBD2t-"
      }
    },
    {
      "cell_type": "code",
      "source": [
        "import torch\n",
        "from torchvision.models import resnet18, ResNet18_Weights\n",
        "model = resnet18(weights=ResNet18_Weights.DEFAULT)\n",
        "data = torch.rand(1, 3, 64, 64)\n",
        "labels = torch.rand(1, 1000)"
      ],
      "metadata": {
        "colab": {
          "base_uri": "https://localhost:8080/"
        },
        "id": "ynuOMIkHD4rc",
        "outputId": "614f310d-723e-44c8-8482-e16fed21c17c"
      },
      "execution_count": 1,
      "outputs": [
        {
          "output_type": "stream",
          "name": "stderr",
          "text": [
            "Downloading: \"https://download.pytorch.org/models/resnet18-f37072fd.pth\" to /root/.cache/torch/hub/checkpoints/resnet18-f37072fd.pth\n",
            "100%|██████████| 44.7M/44.7M [00:00<00:00, 157MB/s]\n"
          ]
        }
      ]
    },
    {
      "cell_type": "code",
      "source": [
        "prediction = model(data)"
      ],
      "metadata": {
        "id": "497OgmyhJmbN"
      },
      "execution_count": 2,
      "outputs": []
    },
    {
      "cell_type": "code",
      "source": [
        "loss = (prediction - labels).sum()"
      ],
      "metadata": {
        "id": "auNG-ol3Jqz4"
      },
      "execution_count": 3,
      "outputs": []
    },
    {
      "cell_type": "code",
      "source": [
        "optim = torch.optim.SGD(model.parameters(), lr=1e-2, momentum=0.9)"
      ],
      "metadata": {
        "id": "_tukdgk1JxwR"
      },
      "execution_count": 4,
      "outputs": []
    },
    {
      "cell_type": "code",
      "source": [
        "for param in model.parameters():\n",
        "    print(param.grad)"
      ],
      "metadata": {
        "colab": {
          "base_uri": "https://localhost:8080/"
        },
        "id": "bqm4kY4tO9YT",
        "outputId": "0ff2461f-9481-4017-80be-135ca3ebc846"
      },
      "execution_count": 5,
      "outputs": [
        {
          "output_type": "stream",
          "name": "stdout",
          "text": [
            "None\n",
            "None\n",
            "None\n",
            "None\n",
            "None\n",
            "None\n",
            "None\n",
            "None\n",
            "None\n",
            "None\n",
            "None\n",
            "None\n",
            "None\n",
            "None\n",
            "None\n",
            "None\n",
            "None\n",
            "None\n",
            "None\n",
            "None\n",
            "None\n",
            "None\n",
            "None\n",
            "None\n",
            "None\n",
            "None\n",
            "None\n",
            "None\n",
            "None\n",
            "None\n",
            "None\n",
            "None\n",
            "None\n",
            "None\n",
            "None\n",
            "None\n",
            "None\n",
            "None\n",
            "None\n",
            "None\n",
            "None\n",
            "None\n",
            "None\n",
            "None\n",
            "None\n",
            "None\n",
            "None\n",
            "None\n",
            "None\n",
            "None\n",
            "None\n",
            "None\n",
            "None\n",
            "None\n",
            "None\n",
            "None\n",
            "None\n",
            "None\n",
            "None\n",
            "None\n",
            "None\n",
            "None\n"
          ]
        }
      ]
    },
    {
      "cell_type": "code",
      "source": [],
      "metadata": {
        "id": "DtdfyZPAUH0Y"
      },
      "execution_count": null,
      "outputs": []
    },
    {
      "cell_type": "markdown",
      "source": [
        "## Neural Network"
      ],
      "metadata": {
        "id": "5s0x06Dpvue5"
      }
    },
    {
      "cell_type": "code",
      "source": [
        "import torch\n",
        "import torch.nn as nn\n",
        "import torch.nn.functional as F"
      ],
      "metadata": {
        "id": "zeZA1uqivwVl"
      },
      "execution_count": 6,
      "outputs": []
    },
    {
      "cell_type": "code",
      "source": [
        "## define a class that inhrent nn.Module class\n",
        "##\n",
        "class Net(nn.Module):\n",
        "\n",
        "## Initialize attributes\n",
        "    def __init__(self):\n",
        "        super(Net, self).__init__()\n",
        "\n",
        "        self.conv1 = nn.Conv2d(1, 6, 5)\n",
        "        self.conv2 = nn.Conv2d(6, 16, 5)\n",
        "\n",
        "        self.fc1 = nn.Linear(16 * 5 * 5, 120)\n",
        "        self.fc2 = nn.Linear(120, 84)\n",
        "        self.fc3 = nn.Linear(84, 10)\n",
        "\n",
        "    def forward(self, input):\n",
        "        c1 = F.relu(self.conv1(input))\n",
        "\n",
        "        s2 = F.max_pool2d(c1, (2, 2))\n",
        "\n",
        "        c3 = F.relu(self.conv2(s2))\n",
        "\n",
        "        s4 = F.max_pool2d(c3, 2)\n",
        "\n",
        "        s4 = torch.flatten(s4, 1)\n",
        "\n",
        "        f5 = F.relu(self.fc1(s4))\n",
        "\n",
        "        f6 = F.relu(self.fc2(f5))\n",
        "\n",
        "        output = self.fc3(f6)\n",
        "        return output\n",
        "\n",
        "net = Net()\n",
        "print(net)\n",
        "\n"
      ],
      "metadata": {
        "colab": {
          "base_uri": "https://localhost:8080/"
        },
        "id": "fWTk_xoQv0-A",
        "outputId": "26e40f20-7a14-47d9-c21a-066497d60a1a"
      },
      "execution_count": 7,
      "outputs": [
        {
          "output_type": "stream",
          "name": "stdout",
          "text": [
            "Net(\n",
            "  (conv1): Conv2d(1, 6, kernel_size=(5, 5), stride=(1, 1))\n",
            "  (conv2): Conv2d(6, 16, kernel_size=(5, 5), stride=(1, 1))\n",
            "  (fc1): Linear(in_features=400, out_features=120, bias=True)\n",
            "  (fc2): Linear(in_features=120, out_features=84, bias=True)\n",
            "  (fc3): Linear(in_features=84, out_features=10, bias=True)\n",
            ")\n"
          ]
        }
      ]
    },
    {
      "cell_type": "code",
      "source": [
        "net.conv1"
      ],
      "metadata": {
        "colab": {
          "base_uri": "https://localhost:8080/"
        },
        "id": "DlbDXYd6gOLS",
        "outputId": "cfdc9bd6-8fc5-43c8-f51f-5f81cb5f1ba3"
      },
      "execution_count": 9,
      "outputs": [
        {
          "output_type": "execute_result",
          "data": {
            "text/plain": [
              "Conv2d(1, 6, kernel_size=(5, 5), stride=(1, 1))"
            ]
          },
          "metadata": {},
          "execution_count": 9
        }
      ]
    },
    {
      "cell_type": "code",
      "source": [
        "params = list(net.parameters())\n",
        "print(params)\n",
        "print(params[0].size())"
      ],
      "metadata": {
        "colab": {
          "base_uri": "https://localhost:8080/"
        },
        "id": "SOTlB6Ca3xcd",
        "outputId": "caa9560c-83ae-4e60-cf9b-d88fc73fe31e"
      },
      "execution_count": 11,
      "outputs": [
        {
          "output_type": "stream",
          "name": "stdout",
          "text": [
            "[Parameter containing:\n",
            "tensor([[[[-4.3238e-02,  1.8604e-01,  2.9601e-02,  1.3189e-01, -4.2301e-03],\n",
            "          [ 1.4183e-01, -1.6890e-01,  5.6835e-02,  8.4627e-02, -3.9532e-02],\n",
            "          [ 8.5638e-02,  2.0699e-02, -1.8328e-01,  1.2107e-01, -5.5726e-02],\n",
            "          [ 1.6900e-01, -9.3339e-02, -9.2411e-02,  1.6710e-02,  1.4085e-01],\n",
            "          [ 7.3874e-02,  1.3071e-01,  1.7487e-02,  3.4958e-02, -1.0969e-02]]],\n",
            "\n",
            "\n",
            "        [[[ 1.8633e-01,  5.6211e-02,  1.7290e-01, -6.8626e-02,  1.1517e-01],\n",
            "          [ 8.7243e-02, -1.7887e-01,  1.3932e-01, -1.1891e-01,  8.6482e-03],\n",
            "          [-1.7707e-01, -1.3488e-01,  1.3438e-01, -1.7441e-01, -8.0511e-02],\n",
            "          [ 1.2589e-02, -3.2673e-02, -9.2583e-02, -1.8082e-01,  1.8418e-01],\n",
            "          [-5.4469e-02, -1.2449e-02,  1.9600e-01, -3.3061e-02,  1.6282e-01]]],\n",
            "\n",
            "\n",
            "        [[[-9.6636e-02,  1.6132e-01,  7.9471e-03, -5.9356e-02,  7.1655e-02],\n",
            "          [ 4.9351e-02,  9.4752e-04,  1.4199e-01,  1.9687e-01, -1.8569e-02],\n",
            "          [ 7.6303e-04,  1.9017e-01, -1.9740e-01,  3.0254e-02,  9.1405e-02],\n",
            "          [-5.5723e-02, -9.9319e-02,  1.2916e-01,  7.5696e-02, -8.4069e-02],\n",
            "          [-2.4190e-02,  1.4288e-01,  8.8716e-02,  1.9676e-01, -1.6912e-01]]],\n",
            "\n",
            "\n",
            "        [[[-3.0425e-02, -6.2358e-02,  1.5795e-01,  8.2023e-02,  1.7901e-01],\n",
            "          [-1.5186e-01,  9.8723e-02,  6.1195e-02,  9.7459e-02,  2.8491e-03],\n",
            "          [ 2.2635e-02, -1.8971e-01, -3.2838e-02,  1.3578e-01, -1.8299e-01],\n",
            "          [-1.6167e-01,  1.0711e-01, -2.5080e-02, -1.2669e-01,  1.3226e-01],\n",
            "          [-4.2683e-02, -1.1283e-01, -1.4790e-01,  1.9314e-02,  9.2514e-02]]],\n",
            "\n",
            "\n",
            "        [[[ 1.3910e-01,  1.2836e-02,  1.4862e-01, -7.3775e-02, -1.5787e-01],\n",
            "          [-3.6329e-02, -4.9500e-02,  1.6002e-01,  1.7994e-01, -1.0928e-01],\n",
            "          [ 3.5798e-02, -1.4418e-01,  1.8878e-01, -8.0009e-03, -1.9492e-01],\n",
            "          [ 4.3654e-05, -8.6327e-02, -9.8299e-02,  9.2567e-02, -1.9303e-01],\n",
            "          [ 1.4455e-01, -2.5780e-02, -1.4319e-01, -1.3868e-01, -7.9920e-02]]],\n",
            "\n",
            "\n",
            "        [[[ 4.5584e-02, -2.5126e-02, -1.3142e-04,  1.6538e-01,  1.6148e-01],\n",
            "          [-1.6665e-01, -1.5170e-01,  9.7271e-03, -7.4077e-03, -1.2558e-02],\n",
            "          [-1.9391e-01, -1.0623e-01, -1.4720e-01, -1.8638e-01, -5.4990e-02],\n",
            "          [-1.8680e-01,  9.7500e-02, -7.8416e-02,  8.3516e-02, -1.8330e-01],\n",
            "          [ 1.8311e-01,  9.2756e-02, -1.1358e-01,  1.9649e-01,  1.5441e-02]]]],\n",
            "       requires_grad=True), Parameter containing:\n",
            "tensor([ 0.1128, -0.0145,  0.0465,  0.1253,  0.0255, -0.0376],\n",
            "       requires_grad=True), Parameter containing:\n",
            "tensor([[[[-5.1012e-02, -9.5116e-04, -6.6279e-02, -6.9072e-02, -7.8893e-02],\n",
            "          [ 7.5304e-02,  1.6126e-02, -1.2808e-02,  8.0778e-02,  6.0630e-02],\n",
            "          [-4.1768e-02,  5.1854e-02, -7.0689e-02,  6.4172e-02, -6.3197e-02],\n",
            "          [ 2.6807e-02, -5.3524e-02, -6.7379e-02,  2.7723e-02,  4.7993e-02],\n",
            "          [ 9.7282e-03, -2.2656e-02,  2.6011e-02,  4.8544e-02, -2.3464e-02]],\n",
            "\n",
            "         [[ 4.6201e-02, -5.5598e-02, -2.2820e-03, -3.6864e-02,  3.5842e-02],\n",
            "          [ 6.2176e-02,  5.5838e-02,  3.7802e-02,  1.9576e-02,  3.1713e-02],\n",
            "          [ 4.2733e-02, -5.2990e-02,  6.1616e-02,  7.6151e-02,  5.7293e-02],\n",
            "          [ 4.1320e-02,  7.3614e-02, -9.0408e-03, -3.4274e-02, -4.8942e-02],\n",
            "          [ 7.7660e-02,  4.9354e-02,  6.5400e-02,  7.4528e-02, -5.3663e-02]],\n",
            "\n",
            "         [[ 1.4726e-02,  2.6900e-03,  5.3489e-02,  1.5438e-02, -7.1554e-02],\n",
            "          [-4.0511e-02,  4.8250e-02,  5.5817e-02,  8.1157e-02,  5.1688e-02],\n",
            "          [ 7.1526e-02,  3.2730e-02,  7.9294e-03, -5.6147e-03, -4.9698e-02],\n",
            "          [-7.9858e-02, -6.7055e-02,  4.8704e-02, -4.9955e-02,  2.8497e-04],\n",
            "          [ 7.4884e-02, -5.9663e-02,  2.0231e-02, -6.5759e-02, -6.1613e-02]],\n",
            "\n",
            "         [[ 6.0851e-02, -8.0051e-02,  1.1574e-03,  3.6781e-02, -7.8634e-02],\n",
            "          [-1.3094e-02, -3.9863e-02,  7.1134e-02,  5.2490e-02, -6.6336e-02],\n",
            "          [-5.0602e-02, -2.3631e-02,  8.1593e-02, -8.1117e-02, -2.1986e-02],\n",
            "          [-8.1127e-03, -7.0625e-02, -2.7481e-02,  3.5349e-02,  7.8781e-02],\n",
            "          [ 6.0778e-02,  5.0508e-02,  4.0932e-02,  7.5794e-02, -1.4303e-02]],\n",
            "\n",
            "         [[-8.1392e-02, -7.4230e-02, -3.6065e-03, -8.0780e-03, -7.0414e-02],\n",
            "          [ 1.4978e-02, -7.0663e-02,  2.0724e-02,  5.6050e-02, -6.8048e-02],\n",
            "          [-4.1188e-02,  2.5211e-02, -7.6868e-02, -4.3010e-02, -6.7563e-02],\n",
            "          [-3.3249e-02,  9.2083e-03,  3.6914e-02,  5.6615e-02,  3.2460e-02],\n",
            "          [ 6.9392e-02,  7.4769e-02,  2.8753e-02,  3.4774e-03,  5.7732e-03]],\n",
            "\n",
            "         [[-3.8037e-02, -5.8176e-02,  4.9381e-02,  6.6896e-02, -5.3202e-02],\n",
            "          [ 7.5588e-02, -2.8032e-03,  1.3585e-02,  7.9494e-02, -2.3751e-02],\n",
            "          [-5.6006e-02,  2.9192e-02, -2.1015e-02, -5.6863e-03, -5.3737e-02],\n",
            "          [-4.3222e-02, -1.6254e-02,  2.6130e-02,  5.5789e-02, -1.0336e-02],\n",
            "          [ 4.7877e-02, -4.1435e-03,  3.1725e-02, -6.7875e-02, -4.9135e-02]]],\n",
            "\n",
            "\n",
            "        [[[-6.9604e-02, -5.9055e-02,  1.6092e-02, -5.4678e-02,  4.0812e-02],\n",
            "          [-4.4215e-02, -2.8089e-02, -7.3215e-02, -3.0868e-02, -4.6654e-02],\n",
            "          [ 1.7904e-02,  3.2571e-02,  4.4082e-02, -2.3929e-02,  1.0918e-03],\n",
            "          [-5.3408e-03, -7.4395e-02, -2.1043e-02, -4.4074e-02,  1.4513e-02],\n",
            "          [-2.0796e-02,  5.4294e-02,  5.1737e-02, -1.9098e-02,  5.0788e-02]],\n",
            "\n",
            "         [[-4.4551e-03,  3.5200e-02,  8.6813e-03, -5.4684e-02,  1.3711e-02],\n",
            "          [ 1.9601e-02, -2.4189e-02, -7.2887e-02,  4.0587e-02,  5.3734e-02],\n",
            "          [-7.5086e-02,  2.2239e-02, -1.3280e-02,  8.0279e-02,  3.9351e-02],\n",
            "          [ 3.3406e-02,  5.8118e-02,  6.2729e-02,  1.9170e-03,  2.3401e-02],\n",
            "          [-5.4252e-02,  7.5777e-02,  5.7485e-02,  5.1506e-02, -1.0758e-02]],\n",
            "\n",
            "         [[-2.8638e-02, -2.9578e-02,  5.7800e-02,  3.8992e-02,  2.3739e-02],\n",
            "          [ 6.7491e-02, -4.2075e-02,  5.6338e-02, -4.3861e-03, -3.1360e-02],\n",
            "          [ 7.8475e-02, -7.6926e-02, -1.5509e-02,  6.8476e-02, -3.6595e-03],\n",
            "          [ 5.3756e-02, -2.0224e-02, -4.0529e-02,  1.3268e-02,  5.2708e-02],\n",
            "          [ 6.1909e-02, -3.7952e-02, -7.1121e-02, -6.4738e-02, -6.2304e-02]],\n",
            "\n",
            "         [[-5.8836e-02,  4.3797e-02,  4.1611e-02,  4.0620e-02, -1.1323e-02],\n",
            "          [-7.5862e-02,  5.1159e-02,  1.0328e-02,  2.6978e-02,  1.2329e-02],\n",
            "          [-8.0099e-02,  8.0835e-02,  2.0250e-02, -3.1406e-02,  9.2270e-03],\n",
            "          [ 2.4475e-02, -2.2186e-02, -2.2198e-02,  9.7753e-03,  1.8174e-02],\n",
            "          [ 4.3910e-02, -9.1045e-03,  2.6741e-02, -3.1750e-02, -9.9236e-03]],\n",
            "\n",
            "         [[-7.9149e-02,  7.2022e-02, -1.4983e-02, -1.8692e-02, -4.6549e-02],\n",
            "          [-5.5600e-02, -4.6314e-02,  4.4097e-02, -2.3588e-02, -5.8732e-02],\n",
            "          [ 5.4536e-02, -1.1326e-03, -6.4502e-02, -6.8400e-02,  3.1122e-02],\n",
            "          [-6.8845e-02,  6.9381e-02, -4.1796e-02, -5.9953e-02, -2.3575e-02],\n",
            "          [-7.6990e-02,  6.8172e-02,  5.7277e-02, -6.6105e-02, -4.5599e-02]],\n",
            "\n",
            "         [[-1.8051e-02,  6.0424e-02, -7.3114e-02,  7.1789e-02, -5.4791e-02],\n",
            "          [-2.3335e-02,  6.9800e-02, -5.2107e-02, -3.0313e-02,  2.9999e-02],\n",
            "          [ 7.3552e-02, -7.8447e-03, -3.2499e-02, -3.9766e-02, -2.1278e-02],\n",
            "          [ 9.2912e-03,  1.5103e-03,  3.9170e-02, -1.7307e-02,  5.9493e-02],\n",
            "          [-8.5197e-03, -6.6021e-03, -1.7198e-02,  4.6448e-02, -4.7151e-02]]],\n",
            "\n",
            "\n",
            "        [[[ 4.3594e-02,  6.9483e-02,  6.5721e-02,  2.2033e-02, -5.5216e-02],\n",
            "          [-5.8439e-02,  6.3160e-02,  3.3124e-02,  4.3559e-02,  4.4813e-02],\n",
            "          [ 1.9763e-02,  7.3912e-02,  2.3458e-02,  9.3307e-03, -1.1889e-04],\n",
            "          [ 3.2598e-02, -5.8004e-02,  1.6973e-02, -7.9106e-02,  7.1099e-02],\n",
            "          [-6.3355e-02, -7.9082e-02, -7.4707e-02, -3.1766e-02, -4.9019e-02]],\n",
            "\n",
            "         [[ 6.3686e-02, -5.4247e-02,  3.1223e-02,  2.6127e-02, -3.6264e-02],\n",
            "          [ 6.3344e-03,  2.3413e-02,  5.6097e-02, -3.3943e-02,  8.1189e-02],\n",
            "          [-8.0463e-02, -7.4128e-02, -5.8891e-02,  1.5783e-02, -4.8299e-02],\n",
            "          [-1.4374e-02,  7.5821e-03,  5.1440e-02,  7.9103e-02,  9.9863e-03],\n",
            "          [-4.4011e-02,  4.6676e-02, -6.5764e-02, -7.0971e-02,  2.1358e-02]],\n",
            "\n",
            "         [[ 4.9199e-02,  5.0326e-02, -3.1889e-02,  6.7156e-02, -5.4006e-02],\n",
            "          [-7.5480e-03, -1.3131e-02,  6.7107e-02, -1.6966e-02, -2.9277e-02],\n",
            "          [ 2.3694e-02, -1.4849e-02, -3.7257e-02,  2.8400e-02,  7.6602e-02],\n",
            "          [ 2.4715e-02,  6.2043e-02, -5.0386e-02, -4.6435e-02, -3.7566e-02],\n",
            "          [ 1.5883e-02,  1.1858e-02, -2.7377e-02,  5.1388e-02,  6.5500e-02]],\n",
            "\n",
            "         [[-4.8531e-03,  2.1629e-02, -7.5599e-02, -3.7899e-02, -1.3977e-02],\n",
            "          [ 7.7817e-02, -1.9189e-02,  1.5116e-03,  2.1802e-02, -5.6887e-02],\n",
            "          [ 4.6933e-02, -3.7965e-02,  5.1002e-02, -3.3700e-02, -4.2457e-02],\n",
            "          [ 3.0515e-03,  3.1049e-02,  5.6160e-02, -5.4845e-02,  7.8728e-02],\n",
            "          [-4.7631e-02, -1.3051e-02, -7.8344e-02, -1.0309e-02, -2.3142e-03]],\n",
            "\n",
            "         [[ 2.5542e-02,  4.1212e-02,  2.8053e-02,  7.6193e-02,  2.4446e-02],\n",
            "          [-7.8052e-02, -6.8566e-02, -1.6428e-02,  1.9130e-02,  1.8784e-02],\n",
            "          [-2.9687e-02, -2.2448e-02, -4.3343e-02, -3.1778e-02,  4.7449e-02],\n",
            "          [-3.1965e-04, -2.9174e-02,  3.5925e-02,  2.6188e-02,  7.6388e-02],\n",
            "          [-5.8884e-03,  6.3125e-02, -6.1126e-02,  3.8154e-02, -2.3667e-03]],\n",
            "\n",
            "         [[ 6.7212e-02, -3.7299e-02,  7.9707e-02,  2.1196e-02,  7.9573e-02],\n",
            "          [ 4.5401e-02, -5.1173e-02,  2.9151e-02, -2.8512e-02,  1.3449e-02],\n",
            "          [ 4.0763e-02, -7.1115e-02, -1.4877e-04,  6.4896e-02, -2.3459e-02],\n",
            "          [-4.4855e-03,  4.2647e-02, -5.4743e-02, -7.8209e-02,  6.0513e-02],\n",
            "          [ 6.8684e-02,  1.7003e-02, -3.9972e-02, -3.9665e-02,  5.5652e-02]]],\n",
            "\n",
            "\n",
            "        ...,\n",
            "\n",
            "\n",
            "        [[[-5.8295e-02,  4.2157e-02, -5.0860e-02, -5.7887e-02, -2.4118e-03],\n",
            "          [ 2.1147e-02, -6.0434e-02, -3.1751e-02,  1.7352e-02, -5.9398e-02],\n",
            "          [ 7.3464e-02, -3.0485e-02, -6.0453e-02, -7.3411e-02,  1.4967e-02],\n",
            "          [ 3.7027e-02,  7.7306e-03,  5.0655e-02, -3.7542e-02,  6.3276e-02],\n",
            "          [-4.3534e-02,  6.4153e-02,  4.9759e-02, -4.9197e-02, -2.0645e-02]],\n",
            "\n",
            "         [[-1.5495e-02, -1.4558e-02, -7.2267e-02, -5.6723e-03, -1.3482e-02],\n",
            "          [ 1.9229e-02, -5.3075e-02,  2.8209e-02, -7.2438e-02,  6.9663e-02],\n",
            "          [ 2.5950e-03, -3.9547e-02,  2.4481e-02, -3.6096e-02, -1.4665e-02],\n",
            "          [-2.4489e-02,  6.3699e-02,  6.8927e-02, -3.6467e-02,  5.7616e-02],\n",
            "          [ 2.1287e-02, -7.2278e-02, -6.6145e-02,  6.1165e-02, -6.4964e-02]],\n",
            "\n",
            "         [[ 1.8291e-02, -5.5475e-02, -3.8207e-03, -5.5884e-02,  1.0579e-02],\n",
            "          [ 7.4278e-02, -5.9397e-02, -8.2871e-03,  6.9022e-02,  4.4000e-02],\n",
            "          [ 5.2970e-02, -6.5360e-02, -3.1780e-02, -1.8462e-02, -7.2628e-02],\n",
            "          [ 3.9985e-02,  6.3439e-02, -5.7208e-02,  3.3963e-02,  1.1783e-02],\n",
            "          [-2.4257e-02, -5.3958e-02,  1.7937e-02, -4.1079e-02,  4.4452e-02]],\n",
            "\n",
            "         [[ 3.0976e-02,  6.7032e-02,  3.8231e-02, -4.8553e-02,  3.7446e-02],\n",
            "          [-1.4233e-02,  4.6464e-02,  5.3475e-02, -2.0366e-02,  3.3978e-02],\n",
            "          [-6.1831e-02, -1.0959e-02, -5.9761e-02,  7.2108e-02,  3.2870e-03],\n",
            "          [ 6.5894e-02,  6.1421e-02, -5.7712e-02,  4.2586e-02,  1.8057e-02],\n",
            "          [ 3.1118e-02, -1.5815e-02,  6.1924e-02, -6.2128e-02,  7.0682e-02]],\n",
            "\n",
            "         [[-5.7846e-03,  6.3514e-02,  5.2043e-02,  3.9982e-02,  3.3973e-02],\n",
            "          [-2.9788e-02,  4.3721e-02, -2.5638e-02,  6.9076e-03, -5.6419e-02],\n",
            "          [ 3.8522e-02,  4.1246e-02,  2.0215e-02,  2.0390e-02,  4.5369e-02],\n",
            "          [-1.8513e-02,  3.8191e-02,  7.1026e-02,  2.0373e-02, -1.0976e-02],\n",
            "          [ 6.9739e-02, -5.5665e-02,  7.2971e-02,  7.7754e-02,  7.0305e-02]],\n",
            "\n",
            "         [[-3.9606e-02, -3.6045e-02, -3.9020e-02, -6.4374e-02,  2.9800e-02],\n",
            "          [ 1.2496e-02,  7.8430e-02,  7.6589e-03, -8.0256e-02,  6.4096e-02],\n",
            "          [-1.9514e-02,  6.8567e-02,  1.4853e-02, -5.7195e-02,  3.2375e-02],\n",
            "          [-3.1447e-02,  1.4795e-02, -2.0181e-02,  8.0604e-02, -6.2050e-03],\n",
            "          [ 8.0921e-02, -3.7075e-02, -5.3700e-02, -5.6237e-02, -1.9801e-02]]],\n",
            "\n",
            "\n",
            "        [[[ 6.7689e-02, -4.7178e-04,  3.6053e-02, -4.1012e-02, -4.4807e-04],\n",
            "          [ 5.5830e-02, -4.9708e-02, -6.9882e-02, -5.6456e-02, -5.8864e-02],\n",
            "          [-1.7389e-02, -2.1216e-02, -2.4078e-02, -3.2006e-02, -3.0115e-02],\n",
            "          [-1.1349e-02, -6.2758e-02,  2.2696e-02, -6.5364e-02,  5.4878e-02],\n",
            "          [-5.3700e-02,  2.0077e-02,  7.9466e-02,  3.5929e-02,  4.6730e-02]],\n",
            "\n",
            "         [[-4.8067e-02, -1.7577e-02,  6.0407e-02, -6.7763e-02, -5.6423e-02],\n",
            "          [-6.3621e-02,  6.6660e-02, -5.1689e-03, -4.4992e-02, -6.6392e-02],\n",
            "          [-1.8472e-02, -7.6772e-02, -1.9360e-05, -2.0989e-02, -6.6380e-02],\n",
            "          [ 5.2752e-02,  3.0261e-03, -6.5877e-02,  4.3069e-02,  5.8615e-02],\n",
            "          [ 2.9791e-02, -1.6110e-02, -7.9246e-02, -6.2094e-03, -4.0883e-02]],\n",
            "\n",
            "         [[ 7.5738e-02, -3.4496e-02, -5.1922e-02,  1.8732e-02,  7.0766e-02],\n",
            "          [-1.7065e-02, -3.0418e-02,  1.4621e-02,  4.9240e-03, -1.5950e-02],\n",
            "          [ 1.0904e-02, -7.7211e-02,  6.9628e-04, -4.5931e-03, -5.5483e-02],\n",
            "          [ 2.5914e-02, -3.0175e-02,  7.0526e-02,  7.5749e-02,  7.7035e-02],\n",
            "          [-7.5905e-02,  5.7969e-02, -2.8029e-02, -6.6038e-02,  3.5487e-02]],\n",
            "\n",
            "         [[ 4.6746e-02,  2.1415e-02,  1.8037e-02, -3.3744e-02,  6.3362e-02],\n",
            "          [ 5.7452e-02, -9.4103e-03, -1.6523e-02,  7.9425e-02, -9.5980e-03],\n",
            "          [ 4.8351e-02,  1.0820e-03, -2.2856e-02, -4.2688e-02,  5.9598e-02],\n",
            "          [-1.1560e-03,  7.9347e-02, -5.7869e-02, -3.3709e-02, -6.6024e-02],\n",
            "          [-4.9178e-02,  5.2389e-02,  3.3322e-03, -7.0877e-02, -4.4145e-02]],\n",
            "\n",
            "         [[-1.2856e-02, -3.2837e-02,  4.8763e-02, -6.6330e-04, -8.5311e-03],\n",
            "          [-3.9503e-03,  6.9531e-02,  7.2194e-02, -2.4797e-02, -3.6812e-02],\n",
            "          [-7.7125e-02,  5.5734e-02, -7.5291e-02, -3.6947e-02,  8.0981e-02],\n",
            "          [-3.5649e-02, -1.0642e-02,  4.3463e-02,  3.5503e-02,  1.3617e-02],\n",
            "          [ 5.1385e-02, -4.4439e-02, -6.3152e-02,  4.8121e-02, -6.2829e-02]],\n",
            "\n",
            "         [[-1.9120e-02,  7.1359e-03,  1.1059e-02, -6.2451e-02,  2.1714e-02],\n",
            "          [ 1.1701e-02,  4.3921e-02, -8.9444e-03,  7.7473e-02, -4.2525e-02],\n",
            "          [-8.0143e-02, -5.8004e-02, -4.8627e-02, -1.9263e-02, -7.5497e-02],\n",
            "          [-2.8417e-02, -2.4796e-02, -5.2729e-02,  1.9197e-02, -4.6631e-02],\n",
            "          [ 1.5276e-02, -5.5276e-02, -7.9512e-02, -5.6703e-02,  5.2995e-02]]],\n",
            "\n",
            "\n",
            "        [[[-5.2734e-02,  7.4242e-02, -1.0826e-02,  4.2942e-02,  2.1644e-03],\n",
            "          [-5.7975e-03,  1.3995e-02, -4.5589e-02, -2.6124e-02,  5.5780e-02],\n",
            "          [-4.2931e-02,  8.1416e-02,  3.6030e-02, -4.7775e-02, -2.3340e-02],\n",
            "          [ 6.3143e-02,  4.2195e-02,  1.2001e-03,  5.9325e-02, -6.1563e-02],\n",
            "          [ 5.1801e-02, -3.6697e-02, -5.9526e-02, -7.8159e-02, -6.4171e-02]],\n",
            "\n",
            "         [[ 2.1116e-02, -2.9891e-02,  6.2784e-02, -5.6594e-02,  3.4734e-02],\n",
            "          [ 3.1202e-02,  7.6917e-02, -4.9457e-02,  4.2212e-03,  7.7021e-02],\n",
            "          [-2.5923e-02, -5.0471e-02, -6.8125e-02, -6.3926e-03, -5.6468e-02],\n",
            "          [ 6.4521e-02,  3.2705e-02,  4.8871e-02,  1.7597e-02, -6.8087e-02],\n",
            "          [-3.5271e-02, -2.6428e-02,  7.6904e-02,  2.1949e-02, -2.8651e-03]],\n",
            "\n",
            "         [[-3.3980e-02, -8.0818e-02,  3.3145e-02, -4.8579e-02,  4.5991e-02],\n",
            "          [-3.4355e-02,  1.7262e-02,  2.3403e-02,  3.4284e-03, -7.4631e-02],\n",
            "          [ 1.6315e-02, -1.6861e-02, -1.7025e-02,  1.4067e-02, -5.2523e-02],\n",
            "          [ 7.1110e-02, -7.0773e-02,  5.4790e-03,  7.6176e-02, -2.4515e-02],\n",
            "          [-6.6356e-02,  1.3627e-02, -5.8639e-02, -1.8853e-02, -5.4274e-02]],\n",
            "\n",
            "         [[ 2.1410e-02,  3.9000e-03, -7.1830e-02,  3.2825e-02,  2.8457e-02],\n",
            "          [ 6.9818e-03, -7.0839e-03,  9.3885e-04, -7.1872e-02, -1.4913e-02],\n",
            "          [ 5.9957e-02,  4.2679e-02,  5.4115e-02,  6.1692e-02, -4.2409e-02],\n",
            "          [ 7.0131e-02, -4.7576e-02, -3.4798e-02, -2.2411e-02,  8.6215e-03],\n",
            "          [-7.5481e-02, -6.0327e-02, -4.3746e-03, -3.0271e-03, -6.1708e-02]],\n",
            "\n",
            "         [[ 3.2304e-02,  1.7842e-02,  8.4304e-03, -3.9648e-02, -1.4778e-02],\n",
            "          [ 1.9924e-02, -1.9558e-02, -3.3360e-03,  6.3749e-02, -1.4055e-02],\n",
            "          [ 2.1514e-02,  8.0670e-02, -8.0974e-02,  3.6455e-02, -4.3999e-02],\n",
            "          [-2.5667e-02, -1.3341e-02,  6.3883e-02, -5.9744e-02, -7.4520e-02],\n",
            "          [ 4.0108e-02,  6.8222e-02, -7.9325e-02,  9.1728e-03, -1.1962e-02]],\n",
            "\n",
            "         [[ 7.7615e-03,  1.3088e-02,  6.2314e-02, -5.3678e-02,  1.7592e-02],\n",
            "          [-3.3286e-02, -3.1600e-02,  3.8958e-02, -8.1219e-02, -5.2145e-02],\n",
            "          [ 2.0211e-02, -4.7883e-02, -5.6906e-02,  1.4082e-02,  1.0330e-03],\n",
            "          [ 3.4003e-02,  7.5641e-02, -5.5558e-02,  5.0746e-02, -6.7934e-02],\n",
            "          [ 4.6502e-02, -5.0144e-02, -1.9874e-02, -5.7826e-02,  1.4618e-02]]]],\n",
            "       requires_grad=True), Parameter containing:\n",
            "tensor([ 0.0111, -0.0808,  0.0313,  0.0113, -0.0471,  0.0247,  0.0081,  0.0094,\n",
            "         0.0593,  0.0800, -0.0270, -0.0047,  0.0487, -0.0772, -0.0170, -0.0781],\n",
            "       requires_grad=True), Parameter containing:\n",
            "tensor([[-0.0240,  0.0055, -0.0290,  ..., -0.0339, -0.0073,  0.0373],\n",
            "        [ 0.0415,  0.0032,  0.0169,  ...,  0.0360,  0.0391,  0.0045],\n",
            "        [ 0.0401, -0.0477, -0.0457,  ..., -0.0041,  0.0068, -0.0308],\n",
            "        ...,\n",
            "        [-0.0473, -0.0381, -0.0026,  ...,  0.0200,  0.0281,  0.0123],\n",
            "        [ 0.0125, -0.0334, -0.0074,  ...,  0.0036,  0.0223,  0.0243],\n",
            "        [-0.0018,  0.0063,  0.0306,  ..., -0.0084,  0.0402,  0.0340]],\n",
            "       requires_grad=True), Parameter containing:\n",
            "tensor([-0.0011,  0.0473,  0.0208, -0.0313,  0.0192, -0.0350,  0.0441, -0.0064,\n",
            "         0.0377, -0.0104, -0.0199, -0.0499, -0.0336, -0.0004,  0.0373,  0.0330,\n",
            "        -0.0349, -0.0477, -0.0367, -0.0007,  0.0297,  0.0358, -0.0498,  0.0467,\n",
            "         0.0018,  0.0350, -0.0066,  0.0372,  0.0210,  0.0474,  0.0386, -0.0122,\n",
            "        -0.0495,  0.0325, -0.0340,  0.0284,  0.0087, -0.0105, -0.0392, -0.0490,\n",
            "        -0.0416, -0.0331,  0.0216,  0.0195,  0.0439,  0.0095,  0.0422, -0.0185,\n",
            "         0.0367,  0.0024, -0.0452,  0.0249,  0.0250, -0.0030,  0.0207, -0.0119,\n",
            "         0.0056, -0.0225, -0.0373, -0.0104,  0.0428, -0.0359, -0.0137, -0.0388,\n",
            "         0.0127,  0.0059, -0.0040, -0.0164, -0.0015,  0.0374, -0.0026,  0.0403,\n",
            "         0.0235, -0.0218, -0.0249,  0.0424,  0.0253,  0.0405,  0.0283,  0.0005,\n",
            "        -0.0026,  0.0412, -0.0257,  0.0314, -0.0488,  0.0133, -0.0422, -0.0415,\n",
            "        -0.0041, -0.0365,  0.0239, -0.0110,  0.0459, -0.0275,  0.0110, -0.0017,\n",
            "        -0.0467,  0.0028, -0.0497, -0.0360,  0.0443,  0.0488,  0.0176,  0.0175,\n",
            "         0.0210, -0.0417,  0.0121, -0.0449,  0.0311, -0.0064, -0.0232,  0.0326,\n",
            "         0.0096,  0.0242,  0.0209,  0.0443,  0.0150,  0.0393, -0.0076,  0.0049],\n",
            "       requires_grad=True), Parameter containing:\n",
            "tensor([[ 0.0178, -0.0821,  0.0057,  ...,  0.0078, -0.0537, -0.0759],\n",
            "        [ 0.0173, -0.0369, -0.0752,  ..., -0.0668, -0.0691, -0.0195],\n",
            "        [-0.0171,  0.0654,  0.0744,  ...,  0.0045,  0.0392, -0.0654],\n",
            "        ...,\n",
            "        [ 0.0193, -0.0350, -0.0639,  ..., -0.0794,  0.0288, -0.0200],\n",
            "        [-0.0403,  0.0687, -0.0665,  ..., -0.0352,  0.0619, -0.0078],\n",
            "        [-0.0569,  0.0850, -0.0526,  ...,  0.0693,  0.0310,  0.0438]],\n",
            "       requires_grad=True), Parameter containing:\n",
            "tensor([ 0.0425,  0.0878,  0.0128,  0.0453, -0.0644,  0.0750, -0.0765,  0.0874,\n",
            "        -0.0763, -0.0257,  0.0472,  0.0692,  0.0547,  0.0019,  0.0877,  0.0766,\n",
            "        -0.0810,  0.0590, -0.0203, -0.0551,  0.0051, -0.0732, -0.0492, -0.0512,\n",
            "        -0.0824,  0.0898, -0.0245, -0.0735,  0.0827,  0.0005, -0.0053,  0.0491,\n",
            "         0.0416,  0.0882, -0.0611, -0.0810,  0.0253, -0.0108,  0.0014, -0.0686,\n",
            "         0.0685,  0.0475, -0.0026, -0.0100,  0.0174, -0.0634,  0.0847, -0.0885,\n",
            "         0.0495, -0.0823, -0.0832,  0.0608,  0.0589,  0.0558,  0.0690, -0.0406,\n",
            "         0.0702,  0.0162,  0.0457,  0.0697,  0.0556,  0.0485, -0.0431,  0.0840,\n",
            "         0.0036,  0.0415,  0.0535,  0.0637, -0.0410, -0.0210,  0.0514,  0.0860,\n",
            "        -0.0399,  0.0116,  0.0619,  0.0875, -0.0257, -0.0684,  0.0208,  0.0008,\n",
            "         0.0252,  0.0121, -0.0300, -0.0486], requires_grad=True), Parameter containing:\n",
            "tensor([[ 0.0749, -0.0005,  0.0262, -0.0977,  0.0470,  0.0186, -0.0899, -0.0920,\n",
            "         -0.0029, -0.0901, -0.0488,  0.0342, -0.0785,  0.0867, -0.0876,  0.0855,\n",
            "          0.0663, -0.0695,  0.0834, -0.0081,  0.0956, -0.0392, -0.0818, -0.0944,\n",
            "         -0.0964,  0.0300,  0.0572, -0.0846, -0.0233, -0.0399,  0.0686, -0.0991,\n",
            "          0.0928, -0.0925, -0.0112,  0.0418,  0.0527, -0.0794, -0.0509, -0.0549,\n",
            "          0.0297,  0.0981,  0.0105, -0.0311,  0.0584,  0.0075,  0.0691, -0.0293,\n",
            "          0.0306, -0.0064,  0.0437, -0.0616,  0.0245, -0.0571,  0.0584,  0.0726,\n",
            "         -0.0213,  0.0666,  0.0725, -0.0005, -0.0373, -0.0395, -0.0410,  0.0822,\n",
            "          0.0972,  0.0456,  0.0587, -0.0328,  0.0422,  0.0344,  0.0350,  0.0059,\n",
            "         -0.0715, -0.0759, -0.0887, -0.0194, -0.0614,  0.0041,  0.0908,  0.0954,\n",
            "         -0.0625,  0.0937,  0.0222, -0.1070],\n",
            "        [ 0.0734, -0.0700,  0.0068,  0.0268, -0.0147,  0.0140,  0.0553,  0.0560,\n",
            "          0.0623,  0.0777,  0.0400, -0.1056, -0.0360,  0.0534, -0.0600, -0.0906,\n",
            "          0.0598,  0.1062, -0.0253, -0.0102, -0.1062, -0.0623, -0.0062,  0.0721,\n",
            "          0.0078, -0.0007, -0.0269,  0.0012, -0.0004, -0.0998,  0.0617, -0.0017,\n",
            "         -0.0088, -0.0779,  0.0363,  0.0864,  0.0770,  0.1078, -0.0073, -0.0297,\n",
            "          0.0114, -0.0272,  0.0359, -0.0649, -0.0435,  0.0008,  0.0282, -0.0322,\n",
            "          0.0652,  0.1059,  0.0610,  0.0913, -0.0882,  0.0736, -0.0752,  0.0071,\n",
            "         -0.0042, -0.0687,  0.0876,  0.0208, -0.0035, -0.1081,  0.0397, -0.0445,\n",
            "          0.0309, -0.0267, -0.0206,  0.0839,  0.0841,  0.0972, -0.0338,  0.0327,\n",
            "         -0.0088,  0.0949, -0.0285,  0.0537, -0.1069, -0.0016,  0.0591, -0.0603,\n",
            "         -0.0388, -0.0523,  0.0793,  0.1009],\n",
            "        [-0.0679, -0.0754, -0.1086, -0.0101, -0.0770, -0.0182,  0.0163,  0.0895,\n",
            "          0.0929, -0.0288, -0.0931,  0.0549, -0.0952,  0.0878, -0.0459,  0.0880,\n",
            "         -0.0659, -0.0738,  0.0426, -0.0658, -0.0892, -0.0228,  0.0447,  0.0052,\n",
            "          0.0716, -0.0649,  0.0308, -0.0947, -0.0804,  0.0452, -0.0658,  0.0716,\n",
            "          0.0988, -0.0924,  0.0246,  0.0278,  0.0437, -0.0690, -0.0550, -0.1077,\n",
            "         -0.0553,  0.0448,  0.0178,  0.0279,  0.0458,  0.0248,  0.0829, -0.1007,\n",
            "         -0.0008,  0.0914, -0.0460, -0.0442,  0.0913, -0.0124,  0.0709, -0.0441,\n",
            "         -0.0286,  0.0759, -0.0469,  0.0708,  0.0302,  0.0279,  0.0370,  0.1053,\n",
            "         -0.0246, -0.0328,  0.0177, -0.0708, -0.0468, -0.0412, -0.0117,  0.0416,\n",
            "          0.0366,  0.0310,  0.0021, -0.0460, -0.0057, -0.0267,  0.0809,  0.0580,\n",
            "          0.0520, -0.0958,  0.0662, -0.0327],\n",
            "        [-0.0818,  0.0979,  0.0336, -0.0736,  0.0929,  0.0791,  0.0903, -0.0413,\n",
            "          0.0979, -0.0328,  0.1053,  0.0766, -0.0561,  0.0755, -0.0753,  0.1027,\n",
            "          0.0867,  0.0035,  0.1007,  0.0810,  0.0839, -0.0084, -0.0472, -0.0102,\n",
            "          0.0676,  0.0999, -0.0939,  0.0791,  0.0677, -0.0634, -0.0175, -0.0304,\n",
            "          0.0847,  0.0089,  0.0471, -0.0200, -0.0136,  0.0051,  0.0004, -0.0016,\n",
            "         -0.0934,  0.0342, -0.0946,  0.0434,  0.0001, -0.0021, -0.1033, -0.0189,\n",
            "          0.0499, -0.1086,  0.0169,  0.0097, -0.0634,  0.0535, -0.0851, -0.0229,\n",
            "          0.0419, -0.0662,  0.0537, -0.0807, -0.0865, -0.0642,  0.0882, -0.0958,\n",
            "          0.0395,  0.0719,  0.0162,  0.1015, -0.0456, -0.0655, -0.0595,  0.0045,\n",
            "          0.1002, -0.0211,  0.0243,  0.0215, -0.0877,  0.0749, -0.0227,  0.0521,\n",
            "          0.0913, -0.0460, -0.0122, -0.0227],\n",
            "        [-0.0183,  0.0289,  0.0253,  0.0121,  0.0006, -0.0715,  0.0961,  0.0389,\n",
            "          0.0668,  0.0582,  0.0736,  0.0550,  0.0689,  0.1023,  0.1043,  0.1064,\n",
            "         -0.0424,  0.0759,  0.0258, -0.1086, -0.0990, -0.0043,  0.0991,  0.0392,\n",
            "         -0.0083,  0.0203, -0.0732,  0.0592,  0.0290, -0.0455,  0.0347,  0.0785,\n",
            "          0.0761, -0.0152, -0.0551, -0.0398, -0.0293,  0.0964,  0.0459, -0.0010,\n",
            "          0.0050, -0.0330,  0.0496, -0.0946,  0.0421, -0.0348, -0.0554,  0.0542,\n",
            "         -0.1086, -0.0011, -0.0747, -0.0808,  0.0725, -0.0228,  0.0884,  0.0696,\n",
            "         -0.0836,  0.0809, -0.0728, -0.0504, -0.0464,  0.0513, -0.0708,  0.0972,\n",
            "         -0.0236,  0.0663,  0.0887, -0.0814,  0.0634,  0.0826,  0.0451, -0.0716,\n",
            "          0.0932,  0.1043, -0.1020,  0.0232, -0.0281, -0.0176, -0.0793, -0.0060,\n",
            "          0.0530, -0.0144, -0.0438,  0.0156],\n",
            "        [-0.0111, -0.1072, -0.0592, -0.0433,  0.0979,  0.0079,  0.0475,  0.0162,\n",
            "         -0.0989, -0.0997, -0.0694,  0.0812, -0.0499,  0.0933, -0.0978, -0.0136,\n",
            "         -0.0773, -0.0077, -0.0768, -0.0587, -0.0299,  0.0817, -0.0154, -0.0531,\n",
            "          0.0605, -0.0560, -0.1073,  0.0522, -0.0884,  0.0948, -0.0472,  0.0471,\n",
            "         -0.0340, -0.0410,  0.0785,  0.0801,  0.0098,  0.0731, -0.1061, -0.0216,\n",
            "          0.0278, -0.0103,  0.1037,  0.0651, -0.0764,  0.0259, -0.0643,  0.0474,\n",
            "          0.0158, -0.0753,  0.0342, -0.0771, -0.0830, -0.0286, -0.0890, -0.0428,\n",
            "         -0.0985, -0.0037, -0.1082,  0.0236,  0.0402, -0.0053,  0.0226, -0.0936,\n",
            "         -0.0891, -0.1037, -0.0213,  0.0365, -0.0935, -0.0975, -0.0740, -0.0073,\n",
            "         -0.0806,  0.0400, -0.0352,  0.0956,  0.0839, -0.0847,  0.0624, -0.0955,\n",
            "         -0.0676,  0.0236,  0.0609,  0.0407],\n",
            "        [-0.0703,  0.0786, -0.0554, -0.0566, -0.0473,  0.0213, -0.1008,  0.0314,\n",
            "         -0.0590,  0.0699, -0.0135, -0.0477, -0.0806,  0.0079, -0.0112,  0.0344,\n",
            "         -0.0287,  0.0583,  0.0966,  0.0572,  0.0424, -0.0449,  0.0894, -0.0809,\n",
            "         -0.0380,  0.0369, -0.0608, -0.0824,  0.0252, -0.0761,  0.0893,  0.0014,\n",
            "         -0.0855,  0.0841,  0.0256, -0.0061, -0.0409, -0.0570, -0.0650,  0.0678,\n",
            "         -0.0129, -0.0032,  0.0224,  0.0416, -0.0458, -0.0036,  0.0020,  0.0798,\n",
            "          0.0055, -0.0863, -0.0221,  0.0912,  0.1006, -0.0385, -0.0667, -0.1073,\n",
            "         -0.0778, -0.0349,  0.0106, -0.0390, -0.0712, -0.0767,  0.0993,  0.0161,\n",
            "         -0.0462, -0.0825, -0.1032,  0.1000,  0.1057,  0.0680,  0.0168, -0.0285,\n",
            "         -0.0859, -0.0292, -0.0528, -0.0295,  0.0077,  0.0230, -0.0570,  0.1066,\n",
            "         -0.0421, -0.1070,  0.1059,  0.0722],\n",
            "        [ 0.0829, -0.0200, -0.0598, -0.0467, -0.0627,  0.0028,  0.0875, -0.0335,\n",
            "          0.0706, -0.0177,  0.0284,  0.0066, -0.0545,  0.0003,  0.0997,  0.0717,\n",
            "          0.0917,  0.0722,  0.0961,  0.0658, -0.1009,  0.0717,  0.1026, -0.0510,\n",
            "          0.0569,  0.0447,  0.0046, -0.0867,  0.0522, -0.1046,  0.0704,  0.0052,\n",
            "         -0.0431,  0.0698, -0.0108,  0.0214, -0.0475, -0.0963,  0.0754, -0.0670,\n",
            "         -0.0653, -0.0353, -0.0082, -0.0631, -0.0379, -0.0858,  0.0469, -0.0003,\n",
            "          0.0381,  0.0942, -0.0060, -0.0076, -0.0870, -0.0826,  0.0316,  0.0034,\n",
            "          0.0963,  0.0043,  0.0031,  0.0831,  0.0867, -0.0932, -0.0093,  0.0702,\n",
            "          0.0680, -0.0261, -0.0921,  0.0112,  0.0846,  0.0594, -0.0243,  0.1030,\n",
            "          0.0398, -0.1064,  0.0070,  0.0462, -0.0168,  0.0488,  0.0451, -0.0948,\n",
            "         -0.0403, -0.0316,  0.0057, -0.0707],\n",
            "        [ 0.0671, -0.0638,  0.0204, -0.0239, -0.0262,  0.0551,  0.0502, -0.0034,\n",
            "         -0.1081,  0.0472, -0.0023,  0.0140, -0.0061, -0.0015, -0.1036,  0.0563,\n",
            "         -0.0417, -0.0376,  0.0167, -0.0581,  0.0557, -0.0500,  0.0941, -0.0077,\n",
            "          0.0990, -0.0275, -0.0194,  0.1053, -0.0413, -0.0996,  0.0305, -0.0293,\n",
            "          0.0483, -0.0747, -0.0935,  0.0878,  0.0003, -0.0552,  0.1061,  0.0662,\n",
            "          0.0157,  0.0374, -0.1081,  0.0436,  0.0109,  0.0667,  0.0129, -0.0939,\n",
            "          0.0973,  0.0880, -0.0407, -0.0861,  0.0490,  0.0076, -0.0682,  0.0329,\n",
            "         -0.0015,  0.1021, -0.0869,  0.0245,  0.1060, -0.0250, -0.0508, -0.0898,\n",
            "         -0.0457, -0.0350, -0.0685,  0.0215,  0.0678,  0.0267, -0.0724, -0.0725,\n",
            "         -0.1033,  0.0257,  0.0132,  0.0015, -0.0482, -0.0774, -0.0925,  0.0008,\n",
            "          0.0813, -0.0268,  0.0758, -0.0788],\n",
            "        [-0.1088,  0.0061, -0.0035, -0.0993, -0.1052, -0.0503, -0.0631, -0.0990,\n",
            "          0.0697, -0.0283, -0.0316,  0.1080, -0.0181, -0.0345, -0.0896,  0.0892,\n",
            "         -0.0827, -0.0673,  0.0467,  0.0432,  0.0749,  0.0633, -0.0496, -0.0701,\n",
            "          0.0516,  0.0824,  0.0002,  0.0023,  0.0757, -0.0302, -0.1029,  0.0458,\n",
            "         -0.1051, -0.0362,  0.0482, -0.0501, -0.0335, -0.0595, -0.0940, -0.0183,\n",
            "         -0.0738,  0.0640, -0.0029, -0.0344,  0.0434,  0.0684, -0.0830, -0.0451,\n",
            "          0.0912,  0.0081, -0.0567, -0.0210, -0.0884, -0.0410, -0.0731, -0.0503,\n",
            "          0.0316,  0.0350,  0.1079, -0.0178, -0.0727, -0.0704,  0.0838, -0.0391,\n",
            "          0.0612, -0.0574, -0.0218,  0.0477, -0.0871, -0.0054, -0.0776, -0.0985,\n",
            "         -0.0460,  0.0088, -0.0194, -0.0221,  0.0983,  0.0909,  0.0059,  0.0924,\n",
            "         -0.0329, -0.0446,  0.0460,  0.0374]], requires_grad=True), Parameter containing:\n",
            "tensor([ 0.0412, -0.0439,  0.0372,  0.0649,  0.0426,  0.0015,  0.0867,  0.0270,\n",
            "         0.0303, -0.1024], requires_grad=True)]\n",
            "torch.Size([6, 1, 5, 5])\n"
          ]
        }
      ]
    },
    {
      "cell_type": "code",
      "source": [
        "input = torch.randn(1, 1, 32, 32)\n",
        "out = net(input)\n",
        "print(out)"
      ],
      "metadata": {
        "colab": {
          "base_uri": "https://localhost:8080/"
        },
        "id": "u9UWlDkW4Oua",
        "outputId": "e25dd387-c2e0-4ff7-9539-3043d95aa85e"
      },
      "execution_count": 12,
      "outputs": [
        {
          "output_type": "stream",
          "name": "stdout",
          "text": [
            "tensor([[-0.0308, -0.1287,  0.0350, -0.0053,  0.1546, -0.1154,  0.0781,  0.0341,\n",
            "         -0.0536, -0.2221]], grad_fn=<AddmmBackward0>)\n"
          ]
        }
      ]
    },
    {
      "cell_type": "code",
      "source": [
        "net.zero_grad()\n",
        "out.backward(torch.randn(1, 10))"
      ],
      "metadata": {
        "id": "1coRvlg38UC9"
      },
      "execution_count": null,
      "outputs": []
    },
    {
      "cell_type": "markdown",
      "source": [
        "### Loss Function"
      ],
      "metadata": {
        "id": "S6RuCJLg_7-J"
      }
    },
    {
      "cell_type": "code",
      "source": [
        "output = net(input)\n",
        "target = torch.randn(10)\n",
        "target = target.view(1, -1)\n",
        "criterion = nn.MSELoss()\n",
        "\n",
        "loss = criterion(output, target)\n",
        "print(loss)"
      ],
      "metadata": {
        "colab": {
          "base_uri": "https://localhost:8080/"
        },
        "id": "99KsM91K_qGY",
        "outputId": "0abe8f07-540a-45f5-da13-b5359c7e9525"
      },
      "execution_count": 13,
      "outputs": [
        {
          "output_type": "stream",
          "name": "stdout",
          "text": [
            "tensor(0.7761, grad_fn=<MseLossBackward0>)\n"
          ]
        }
      ]
    },
    {
      "cell_type": "code",
      "source": [
        "print(loss.grad_fn)\n",
        "print(loss.grad_fn.next_functions[0][0])\n",
        "print(loss.grad_fn.next_functions[0][0].next_functions[0][0])"
      ],
      "metadata": {
        "colab": {
          "base_uri": "https://localhost:8080/"
        },
        "id": "iph7AUaJAJ9h",
        "outputId": "11a723ab-c129-4939-91f8-f58817adaf8b"
      },
      "execution_count": 14,
      "outputs": [
        {
          "output_type": "stream",
          "name": "stdout",
          "text": [
            "<MseLossBackward0 object at 0x795d1d0b7fa0>\n",
            "<AddmmBackward0 object at 0x795d1d0b7fd0>\n",
            "<AccumulateGrad object at 0x795d1d0b7fa0>\n"
          ]
        }
      ]
    },
    {
      "cell_type": "code",
      "source": [
        "net.zero_grad()\n",
        "print('conv1.bias.grad befor backward')\n",
        "print(net.conv1.bias.grad)"
      ],
      "metadata": {
        "colab": {
          "base_uri": "https://localhost:8080/"
        },
        "id": "6o9qpLq_AWsN",
        "outputId": "6ab9e537-3949-4f6f-ffcc-393bea6b0bf7"
      },
      "execution_count": 15,
      "outputs": [
        {
          "output_type": "stream",
          "name": "stdout",
          "text": [
            "conv1.bias.grad befor backward\n",
            "None\n"
          ]
        }
      ]
    },
    {
      "cell_type": "code",
      "source": [
        "loss.backward()\n",
        "print('conv1.bias.grad after backward')\n",
        "print(net.conv1.bias.grad)"
      ],
      "metadata": {
        "colab": {
          "base_uri": "https://localhost:8080/"
        },
        "id": "IabQftxnAppw",
        "outputId": "b2f24d1d-6eee-46ed-a1cc-7287304f6735"
      },
      "execution_count": 16,
      "outputs": [
        {
          "output_type": "stream",
          "name": "stdout",
          "text": [
            "conv1.bias.grad after backward\n",
            "tensor([0.0002, 0.0037, 0.0070, 0.0044, 0.0062, 0.0140])\n"
          ]
        }
      ]
    },
    {
      "cell_type": "code",
      "source": [
        "learning_rate = 0.01\n",
        "for f in net.parameters():\n",
        "    f.data.sub_(f.grad.data * learning_rate)"
      ],
      "metadata": {
        "id": "1l9RVn-LAvrp"
      },
      "execution_count": 17,
      "outputs": []
    },
    {
      "cell_type": "code",
      "source": [
        "import torch.optim as optim\n",
        "\n",
        "optimizer = optim.SGD(net.parameters(), lr=0.01)\n",
        "\n",
        "optimizer.zero_grad()\n",
        "output = net(input)\n",
        "loss = criterion(output, target)\n",
        "loss.backward()\n",
        "optimizer.step()"
      ],
      "metadata": {
        "id": "RiSmvaTiBPWy"
      },
      "execution_count": 18,
      "outputs": []
    },
    {
      "cell_type": "code",
      "source": [],
      "metadata": {
        "id": "u5O_OHqNBhOp"
      },
      "execution_count": 18,
      "outputs": []
    },
    {
      "cell_type": "markdown",
      "source": [
        "## Training a Classifier"
      ],
      "metadata": {
        "id": "BGHxquDID0fK"
      }
    },
    {
      "cell_type": "code",
      "source": [
        "import torch\n",
        "import torchvision\n",
        "import torchvision.transforms as transforms"
      ],
      "metadata": {
        "id": "8mWQOoFKD3FG"
      },
      "execution_count": 19,
      "outputs": []
    },
    {
      "cell_type": "code",
      "source": [
        "transform = transforms.Compose(\n",
        "    [transforms.ToTensor(),\n",
        "     transforms.Normalize((0.5, 0.5, 0.5), (0.5, 0.5, 0.5))]\n",
        ")\n",
        "\n",
        "batch_size = 4\n",
        "trainset = torchvision.datasets.CIFAR10(root='./', train=True,\n",
        "                                        download=True, transform=transform)\n",
        "trainloader = torch.utils.data.DataLoader(trainset, batch_size=batch_size,\n",
        "                                          shuffle=True, num_workers=2)\n",
        "\n",
        "testset = torchvision.datasets.CIFAR10(root='./', train=False,\n",
        "                                        download=True, transform=transform)\n",
        "testloader = torch.utils.data.DataLoader(testset, batch_size=batch_size,\n",
        "                                          shuffle=False, num_workers=2)\n",
        "\n",
        "classes = ('plane', 'car', 'bird', 'cat',\n",
        "           'deer', 'dog', 'frog', 'horse', 'ship', 'truck')\n",
        "\n"
      ],
      "metadata": {
        "colab": {
          "base_uri": "https://localhost:8080/"
        },
        "id": "WVWY0zbCEOfq",
        "outputId": "cfa50400-df51-4ca7-b8b5-e1ea4eef11e7"
      },
      "execution_count": 20,
      "outputs": [
        {
          "output_type": "stream",
          "name": "stdout",
          "text": [
            "Downloading https://www.cs.toronto.edu/~kriz/cifar-10-python.tar.gz to ./cifar-10-python.tar.gz\n"
          ]
        },
        {
          "output_type": "stream",
          "name": "stderr",
          "text": [
            "100%|██████████| 170498071/170498071 [00:03<00:00, 48355212.54it/s]\n"
          ]
        },
        {
          "output_type": "stream",
          "name": "stdout",
          "text": [
            "Extracting ./cifar-10-python.tar.gz to ./\n",
            "Files already downloaded and verified\n"
          ]
        }
      ]
    },
    {
      "cell_type": "code",
      "source": [
        "import matplotlib.pyplot as plt\n",
        "import numpy as np\n",
        "\n",
        "def imshow(img):\n",
        "    img = img / 2 + 0.5\n",
        "    nping = img.numpy()\n",
        "    plt.imshow(np.transpose(nping, (1, 2, 0)))\n",
        "    plt.show()\n",
        "\n",
        "dataiter = iter(trainloader)\n",
        "imges, labels = next(dataiter)\n",
        "\n",
        "imshow(torchvision.utils.make_grid(imges))\n",
        "\n",
        "print(' '.join(f'{classes[labels[j]]:5s}' for j in range(batch_size)))"
      ],
      "metadata": {
        "colab": {
          "base_uri": "https://localhost:8080/",
          "height": 210
        },
        "id": "EcbmK_6tEnjp",
        "outputId": "5d24b6f8-ba8e-4cfa-d992-de01eee0a9c9"
      },
      "execution_count": 21,
      "outputs": [
        {
          "output_type": "display_data",
          "data": {
            "text/plain": [
              "<Figure size 640x480 with 1 Axes>"
            ],
            "image/png": "[encoded data removed]"
          },
          "metadata": {}
        },
        {
          "output_type": "stream",
          "name": "stdout",
          "text": [
            "ship  ship  deer  cat  \n"
          ]
        }
      ]
    },
    {
      "cell_type": "code",
      "source": [
        "import torch.nn\n",
        "import torch.nn.functional as F\n",
        "\n",
        "class Net(nn.Module):\n",
        "\n",
        "    def __init__(self):\n",
        "        super().__init__()\n",
        "\n",
        "        self.conv1 = nn.Conv2d(3, 6, 5)\n",
        "        self.pool = nn.MaxPool2d(2, 2)\n",
        "        self.conv2 = nn.Conv2d(6, 16, 5)\n",
        "        self.fc1 = nn.Linear(16 * 5 * 5, 120)\n",
        "        self.fc2 = nn.Linear(120, 84)\n",
        "        self.fc3 = nn.Linear(84, 10)\n",
        "\n",
        "    def forward(self, x):\n",
        "        x = self.pool(F.relu(self.conv1(x)))\n",
        "        x = self.pool(F.relu(self.conv2(x)))\n",
        "        x = torch.flatten(x, 1)\n",
        "        x = F.relu(self.fc1(x))\n",
        "        x = F.relu(self.fc2(x))\n",
        "        x = self.fc3(x)\n",
        "        return x\n",
        "\n",
        "net = Net()\n",
        "print(net)"
      ],
      "metadata": {
        "colab": {
          "base_uri": "https://localhost:8080/"
        },
        "id": "YB10XEILGRUx",
        "outputId": "d9acc037-f195-4c75-cc1b-2ac58b58d5b2"
      },
      "execution_count": 22,
      "outputs": [
        {
          "output_type": "stream",
          "name": "stdout",
          "text": [
            "Net(\n",
            "  (conv1): Conv2d(3, 6, kernel_size=(5, 5), stride=(1, 1))\n",
            "  (pool): MaxPool2d(kernel_size=2, stride=2, padding=0, dilation=1, ceil_mode=False)\n",
            "  (conv2): Conv2d(6, 16, kernel_size=(5, 5), stride=(1, 1))\n",
            "  (fc1): Linear(in_features=400, out_features=120, bias=True)\n",
            "  (fc2): Linear(in_features=120, out_features=84, bias=True)\n",
            "  (fc3): Linear(in_features=84, out_features=10, bias=True)\n",
            ")\n"
          ]
        }
      ]
    },
    {
      "cell_type": "code",
      "source": [
        "import torch.optim as optim\n",
        "\n",
        "criterion = nn.CrossEntropyLoss()\n",
        "optimizer = optim.SGD(net.parameters(), lr= 0.001, momentum=0.9)"
      ],
      "metadata": {
        "id": "Bp5SBGfSHhIh"
      },
      "execution_count": 23,
      "outputs": []
    },
    {
      "cell_type": "code",
      "source": [
        "for epoch in range(10):\n",
        "    running_loss = 0.0\n",
        "    for i, data in enumerate(trainloader, 0):\n",
        "        inputs, labels = data\n",
        "\n",
        "        optimizer.zero_grad()\n",
        "\n",
        "        outputs = net(inputs)\n",
        "        loss = criterion(outputs, labels)\n",
        "        loss.backward()\n",
        "        optimizer.step()\n",
        "\n",
        "        running_loss += loss.item()\n",
        "        if i % 2000 == 1999:    # print every 2000 mini-batches\n",
        "            print(f'[{epoch + 1}, {i + 1:5d}] loss: {running_loss / 2000:.3f}')\n",
        "            running_loss = 0.0\n",
        "\n",
        "print('Finished Training')\n"
      ],
      "metadata": {
        "colab": {
          "base_uri": "https://localhost:8080/",
          "height": 426
        },
        "id": "1Ijg2jg5LSZ2",
        "outputId": "7867be0c-8e29-4028-9701-fb29731642cc"
      },
      "execution_count": 24,
      "outputs": [
        {
          "output_type": "stream",
          "name": "stdout",
          "text": [
            "[1,  2000] loss: 2.212\n",
            "[1,  4000] loss: 1.914\n",
            "[1,  6000] loss: 1.724\n",
            "[1,  8000] loss: 1.614\n"
          ]
        },
        {
          "output_type": "error",
          "ename": "KeyboardInterrupt",
          "evalue": "",
          "traceback": [
            "\u001b[0;31m---------------------------------------------------------------------------\u001b[0m",
            "\u001b[0;31mKeyboardInterrupt\u001b[0m                         Traceback (most recent call last)",
            "\u001b[0;32m<ipython-input-24-cad289e1d5bc>\u001b[0m in \u001b[0;36m<cell line: 1>\u001b[0;34m()\u001b[0m\n\u001b[1;32m      1\u001b[0m \u001b[0;32mfor\u001b[0m \u001b[0mepoch\u001b[0m \u001b[0;32min\u001b[0m \u001b[0mrange\u001b[0m\u001b[0;34m(\u001b[0m\u001b[0;36m10\u001b[0m\u001b[0;34m)\u001b[0m\u001b[0;34m:\u001b[0m\u001b[0;34m\u001b[0m\u001b[0;34m\u001b[0m\u001b[0m\n\u001b[1;32m      2\u001b[0m     \u001b[0mrunning_loss\u001b[0m \u001b[0;34m=\u001b[0m \u001b[0;36m0.0\u001b[0m\u001b[0;34m\u001b[0m\u001b[0;34m\u001b[0m\u001b[0m\n\u001b[0;32m----> 3\u001b[0;31m     \u001b[0;32mfor\u001b[0m \u001b[0mi\u001b[0m\u001b[0;34m,\u001b[0m \u001b[0mdata\u001b[0m \u001b[0;32min\u001b[0m \u001b[0menumerate\u001b[0m\u001b[0;34m(\u001b[0m\u001b[0mtrainloader\u001b[0m\u001b[0;34m,\u001b[0m \u001b[0;36m0\u001b[0m\u001b[0;34m)\u001b[0m\u001b[0;34m:\u001b[0m\u001b[0;34m\u001b[0m\u001b[0;34m\u001b[0m\u001b[0m\n\u001b[0m\u001b[1;32m      4\u001b[0m         \u001b[0minputs\u001b[0m\u001b[0;34m,\u001b[0m \u001b[0mlabels\u001b[0m \u001b[0;34m=\u001b[0m \u001b[0mdata\u001b[0m\u001b[0;34m\u001b[0m\u001b[0;34m\u001b[0m\u001b[0m\n\u001b[1;32m      5\u001b[0m \u001b[0;34m\u001b[0m\u001b[0m\n",
            "\u001b[0;32m/usr/local/lib/python3.10/dist-packages/torch/utils/data/dataloader.py\u001b[0m in \u001b[0;36m__next__\u001b[0;34m(self)\u001b[0m\n\u001b[1;32m    625\u001b[0m \u001b[0;34m\u001b[0m\u001b[0m\n\u001b[1;32m    626\u001b[0m     \u001b[0;32mdef\u001b[0m \u001b[0m__next__\u001b[0m\u001b[0;34m(\u001b[0m\u001b[0mself\u001b[0m\u001b[0;34m)\u001b[0m \u001b[0;34m->\u001b[0m \u001b[0mAny\u001b[0m\u001b[0;34m:\u001b[0m\u001b[0;34m\u001b[0m\u001b[0;34m\u001b[0m\u001b[0m\n\u001b[0;32m--> 627\u001b[0;31m         \u001b[0;32mwith\u001b[0m \u001b[0mtorch\u001b[0m\u001b[0;34m.\u001b[0m\u001b[0mautograd\u001b[0m\u001b[0;34m.\u001b[0m\u001b[0mprofiler\u001b[0m\u001b[0;34m.\u001b[0m\u001b[0mrecord_function\u001b[0m\u001b[0;34m(\u001b[0m\u001b[0mself\u001b[0m\u001b[0;34m.\u001b[0m\u001b[0m_profile_name\u001b[0m\u001b[0;34m)\u001b[0m\u001b[0;34m:\u001b[0m\u001b[0;34m\u001b[0m\u001b[0;34m\u001b[0m\u001b[0m\n\u001b[0m\u001b[1;32m    628\u001b[0m             \u001b[0;32mif\u001b[0m \u001b[0mself\u001b[0m\u001b[0;34m.\u001b[0m\u001b[0m_sampler_iter\u001b[0m \u001b[0;32mis\u001b[0m \u001b[0;32mNone\u001b[0m\u001b[0;34m:\u001b[0m\u001b[0;34m\u001b[0m\u001b[0;34m\u001b[0m\u001b[0m\n\u001b[1;32m    629\u001b[0m                 \u001b[0;31m# TODO(https://github.com/pytorch/pytorch/issues/76750)\u001b[0m\u001b[0;34m\u001b[0m\u001b[0;34m\u001b[0m\u001b[0m\n",
            "\u001b[0;32m/usr/local/lib/python3.10/dist-packages/torch/autograd/profiler.py\u001b[0m in \u001b[0;36m__exit__\u001b[0;34m(self, exc_type, exc_value, traceback)\u001b[0m\n\u001b[1;32m    620\u001b[0m         \u001b[0;32mif\u001b[0m \u001b[0;32mnot\u001b[0m \u001b[0mtorch\u001b[0m\u001b[0;34m.\u001b[0m\u001b[0mjit\u001b[0m\u001b[0;34m.\u001b[0m\u001b[0mis_scripting\u001b[0m\u001b[0;34m(\u001b[0m\u001b[0;34m)\u001b[0m\u001b[0;34m:\u001b[0m\u001b[0;34m\u001b[0m\u001b[0;34m\u001b[0m\u001b[0m\n\u001b[1;32m    621\u001b[0m             \u001b[0;32mwith\u001b[0m \u001b[0mtorch\u001b[0m\u001b[0;34m.\u001b[0m\u001b[0m_C\u001b[0m\u001b[0;34m.\u001b[0m\u001b[0mDisableTorchFunctionSubclass\u001b[0m\u001b[0;34m(\u001b[0m\u001b[0;34m)\u001b[0m\u001b[0;34m:\u001b[0m\u001b[0;34m\u001b[0m\u001b[0;34m\u001b[0m\u001b[0m\n\u001b[0;32m--> 622\u001b[0;31m                 \u001b[0mtorch\u001b[0m\u001b[0;34m.\u001b[0m\u001b[0mops\u001b[0m\u001b[0;34m.\u001b[0m\u001b[0mprofiler\u001b[0m\u001b[0;34m.\u001b[0m\u001b[0m_record_function_exit\u001b[0m\u001b[0;34m.\u001b[0m\u001b[0m_RecordFunction\u001b[0m\u001b[0;34m(\u001b[0m\u001b[0mrecord\u001b[0m\u001b[0;34m)\u001b[0m\u001b[0;34m\u001b[0m\u001b[0;34m\u001b[0m\u001b[0m\n\u001b[0m\u001b[1;32m    623\u001b[0m         \u001b[0;32melse\u001b[0m\u001b[0;34m:\u001b[0m\u001b[0;34m\u001b[0m\u001b[0;34m\u001b[0m\u001b[0m\n\u001b[1;32m    624\u001b[0m             \u001b[0mtorch\u001b[0m\u001b[0;34m.\u001b[0m\u001b[0mops\u001b[0m\u001b[0;34m.\u001b[0m\u001b[0mprofiler\u001b[0m\u001b[0;34m.\u001b[0m\u001b[0m_record_function_exit\u001b[0m\u001b[0;34m(\u001b[0m\u001b[0mrecord\u001b[0m\u001b[0;34m)\u001b[0m\u001b[0;34m\u001b[0m\u001b[0;34m\u001b[0m\u001b[0m\n",
            "\u001b[0;32m/usr/local/lib/python3.10/dist-packages/torch/_ops.py\u001b[0m in \u001b[0;36m__call__\u001b[0;34m(self_, *args, **kwargs)\u001b[0m\n\u001b[1;32m    592\u001b[0m         \u001b[0;31m# use `self_` to avoid naming collide with aten ops arguments that\u001b[0m\u001b[0;34m\u001b[0m\u001b[0;34m\u001b[0m\u001b[0m\n\u001b[1;32m    593\u001b[0m         \u001b[0;31m# are named \"self\". This way, all the aten ops can be called by kwargs.\u001b[0m\u001b[0;34m\u001b[0m\u001b[0;34m\u001b[0m\u001b[0m\n\u001b[0;32m--> 594\u001b[0;31m         \u001b[0;32mreturn\u001b[0m \u001b[0mself_\u001b[0m\u001b[0;34m.\u001b[0m\u001b[0m_op\u001b[0m\u001b[0;34m(\u001b[0m\u001b[0;34m*\u001b[0m\u001b[0margs\u001b[0m\u001b[0;34m,\u001b[0m \u001b[0;34m**\u001b[0m\u001b[0mkwargs\u001b[0m\u001b[0;34m)\u001b[0m\u001b[0;34m\u001b[0m\u001b[0;34m\u001b[0m\u001b[0m\n\u001b[0m\u001b[1;32m    595\u001b[0m \u001b[0;34m\u001b[0m\u001b[0m\n\u001b[1;32m    596\u001b[0m     \u001b[0;32mdef\u001b[0m \u001b[0m__hash__\u001b[0m\u001b[0;34m(\u001b[0m\u001b[0mself\u001b[0m\u001b[0;34m)\u001b[0m\u001b[0;34m:\u001b[0m\u001b[0;34m\u001b[0m\u001b[0;34m\u001b[0m\u001b[0m\n",
            "\u001b[0;31mKeyboardInterrupt\u001b[0m: "
          ]
        }
      ]
    },
    {
      "cell_type": "code",
      "source": [
        "PATH = './cifar_net.pth'\n",
        "torch.save(net.state_dict(), PATH)"
      ],
      "metadata": {
        "id": "RGJOtdePLvQ4"
      },
      "execution_count": null,
      "outputs": []
    },
    {
      "cell_type": "code",
      "source": [
        "dataiter = iter(testloader)\n",
        "images, labels = next(dataiter)\n",
        "\n",
        "imshow(torchvision.utils.make_grid(images))\n",
        "print('GroundTruth: ', ' '.join(f'{classes[labels[j]]:5s}' for j in range(4)))"
      ],
      "metadata": {
        "colab": {
          "base_uri": "https://localhost:8080/",
          "height": 210
        },
        "id": "rOyN5IkKQUG2",
        "outputId": "6e8ea35f-3639-4d6c-a044-f2176190772d"
      },
      "execution_count": null,
      "outputs": [
        {
          "output_type": "display_data",
          "data": {
            "text/plain": [
              "<Figure size 640x480 with 1 Axes>"
            ],
            "image/png": "[encoded data removed]"
          },
          "metadata": {}
        },
        {
          "output_type": "stream",
          "name": "stdout",
          "text": [
            "GroundTruth:  cat   ship  ship  plane\n"
          ]
        }
      ]
    },
    {
      "cell_type": "code",
      "source": [
        "net = Net()\n",
        "net.load_state_dict(torch.load(PATH))"
      ],
      "metadata": {
        "colab": {
          "base_uri": "https://localhost:8080/"
        },
        "id": "EBFgmHTUQetx",
        "outputId": "6eebd752-a704-4014-a728-4b6ef2624e4c"
      },
      "execution_count": null,
      "outputs": [
        {
          "output_type": "execute_result",
          "data": {
            "text/plain": [
              "<All keys matched successfully>"
            ]
          },
          "metadata": {},
          "execution_count": 71
        }
      ]
    },
    {
      "cell_type": "code",
      "source": [
        "outputs = net(images)"
      ],
      "metadata": {
        "id": "MKywHyv-QoXM"
      },
      "execution_count": null,
      "outputs": []
    },
    {
      "cell_type": "code",
      "source": [
        "_, predicted = torch.max(outputs, 1)\n",
        "\n",
        "print('Predicted: ', ' '.join(f'{classes[predicted[j]]:5s}' for j in range(4)))"
      ],
      "metadata": {
        "colab": {
          "base_uri": "https://localhost:8080/"
        },
        "id": "fs8QBQBBQsPD",
        "outputId": "acaf81fa-0212-421f-c23e-e3c687efa976"
      },
      "execution_count": null,
      "outputs": [
        {
          "output_type": "stream",
          "name": "stdout",
          "text": [
            "Predicted:  truck ship  truck ship \n"
          ]
        }
      ]
    },
    {
      "cell_type": "code",
      "source": [
        "correct = 0\n",
        "total = 0\n",
        "\n",
        "with torch.no_grad():\n",
        "    for data in testloader:\n",
        "        images, labels = data\n",
        "        outputs = net(images)\n",
        "\n",
        "        _, predicted = torch.max(outputs.data, 1)\n",
        "        total += labels.size(0)\n",
        "        correct += (predicted == labels).sum().item()"
      ],
      "metadata": {
        "id": "YCZhIg21Q6s5"
      },
      "execution_count": null,
      "outputs": []
    },
    {
      "cell_type": "code",
      "source": [
        "print(f'Accuracy of the network on the 10000 test images: {100 * correct // total} %')"
      ],
      "metadata": {
        "colab": {
          "base_uri": "https://localhost:8080/"
        },
        "id": "X9S5cJ0jRVUb",
        "outputId": "f7e53a25-78e9-4742-ed40-a1a17d93aede"
      },
      "execution_count": null,
      "outputs": [
        {
          "output_type": "stream",
          "name": "stdout",
          "text": [
            "Accuracy of the network on the 10000 test images: 61 %\n"
          ]
        }
      ]
    },
    {
      "cell_type": "code",
      "source": [
        "# prepare to count predictions for each class\n",
        "correct_pred = {classname: 0 for classname in classes}\n",
        "total_pred = {classname: 0 for classname in classes}\n",
        "\n",
        "# again no gradients needed\n",
        "with torch.no_grad():\n",
        "    for data in testloader:\n",
        "        images, labels = data\n",
        "        outputs = net(images)\n",
        "        _, predictions = torch.max(outputs, 1)\n",
        "        # collect the correct predictions for each class\n",
        "        for label, prediction in zip(labels, predictions):\n",
        "            if label == prediction:\n",
        "                correct_pred[classes[label]] += 1\n",
        "            total_pred[classes[label]] += 1\n",
        "\n",
        "\n",
        "# print accuracy for each class\n",
        "for classname, correct_count in correct_pred.items():\n",
        "    accuracy = 100 * float(correct_count) / total_pred[classname]\n",
        "    print(f'Accuracy for class: {classname:5s} is {accuracy:.1f} %')"
      ],
      "metadata": {
        "colab": {
          "base_uri": "https://localhost:8080/"
        },
        "id": "vGxcB-vnReJN",
        "outputId": "eeaf8190-2c0e-45c0-be30-599eaa310a3a"
      },
      "execution_count": null,
      "outputs": [
        {
          "output_type": "stream",
          "name": "stdout",
          "text": [
            "Accuracy for class: plane is 61.2 %\n",
            "Accuracy for class: car   is 66.0 %\n",
            "Accuracy for class: bird  is 52.0 %\n",
            "Accuracy for class: cat   is 36.7 %\n",
            "Accuracy for class: deer  is 51.3 %\n",
            "Accuracy for class: dog   is 61.2 %\n",
            "Accuracy for class: frog  is 70.4 %\n",
            "Accuracy for class: horse is 55.9 %\n",
            "Accuracy for class: ship  is 71.5 %\n",
            "Accuracy for class: truck is 84.8 %\n"
          ]
        }
      ]
    },
    {
      "cell_type": "code",
      "source": [
        "device = torch.device('cuda:0' if torch.cuda.is_available() else 'cpu')\n",
        "\n",
        "# Assuming that we are on a CUDA machine, this should print a CUDA device:\n",
        "\n",
        "print(device)"
      ],
      "metadata": {
        "colab": {
          "base_uri": "https://localhost:8080/"
        },
        "id": "u-kC160oRhqS",
        "outputId": "cb910f2f-37c0-4387-d988-2538879c7bd5"
      },
      "execution_count": null,
      "outputs": [
        {
          "output_type": "stream",
          "name": "stdout",
          "text": [
            "cpu\n"
          ]
        }
      ]
    },
    {
      "cell_type": "code",
      "source": [],
      "metadata": {
        "id": "FCKqCl-vRor8"
      },
      "execution_count": null,
      "outputs": []
    }
  ]
}