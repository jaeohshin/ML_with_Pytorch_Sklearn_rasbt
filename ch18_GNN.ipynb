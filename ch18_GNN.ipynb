{
  "nbformat": 4,
  "nbformat_minor": 0,
  "metadata": {
    "colab": {
      "provenance": [],
      "authorship_tag": "ABX9TyMxxQ/9Gxh5DV0aHD/J2+jn",
      "include_colab_link": true
    },
    "kernelspec": {
      "name": "python3",
      "display_name": "Python 3"
    },
    "language_info": {
      "name": "python"
    }
  },
  "cells": [
    {
      "cell_type": "markdown",
      "metadata": {
        "id": "view-in-github",
        "colab_type": "text"
      },
      "source": [
        "<a href=\"https://colab.research.google.com/github/jaeohshin/ML_with_Pytorch_Sklearn_rasbt/blob/main/ch18_GNN.ipynb\" target=\"_parent\"><img src=\"https://colab.research.google.com/assets/colab-badge.svg\" alt=\"Open In Colab\"/></a>"
      ]
    },
    {
      "cell_type": "code",
      "execution_count": 1,
      "metadata": {
        "id": "GdPjz0ZKcl_a"
      },
      "outputs": [],
      "source": [
        "import numpy as np\n",
        "import networkx as nx\n",
        "G = nx.Graph()"
      ]
    },
    {
      "cell_type": "code",
      "source": [
        "blue, orange, green = \"#1f77b4\", \"#ff7f0e\", \"#2ca02c\"\n",
        "G.add_nodes_from([\n",
        "    (1, {\"color\": blue}),\n",
        "    (2, {\"color\": orange}),\n",
        "    (3, {\"color\": blue}),\n",
        "    (4, {\"color\": green})\n",
        "])"
      ],
      "metadata": {
        "id": "qlxbkFCEctio"
      },
      "execution_count": 5,
      "outputs": []
    },
    {
      "cell_type": "code",
      "source": [
        "G.add_edges_from([(1, 2), (2, 3), (1, 3), (3, 4)])"
      ],
      "metadata": {
        "id": "TAr_kXuScuqo"
      },
      "execution_count": 6,
      "outputs": []
    },
    {
      "cell_type": "code",
      "source": [
        "A = np.asarray(nx.adjacency_matrix(G).todense())"
      ],
      "metadata": {
        "id": "k7si7sAfddKX"
      },
      "execution_count": 7,
      "outputs": []
    },
    {
      "cell_type": "code",
      "source": [
        "print(A)"
      ],
      "metadata": {
        "colab": {
          "base_uri": "https://localhost:8080/"
        },
        "id": "BwtwD43Hejqd",
        "outputId": "66f09acd-db56-462e-e3ff-605a0eaeff29"
      },
      "execution_count": 8,
      "outputs": [
        {
          "output_type": "stream",
          "name": "stdout",
          "text": [
            "[[0 1 1 0]\n",
            " [1 0 1 0]\n",
            " [1 1 0 1]\n",
            " [0 0 1 0]]\n"
          ]
        }
      ]
    },
    {
      "cell_type": "code",
      "source": [
        "def build_graph_color_label_representation(G, mapping_dict):\n",
        "    one_hot_idxs = np.array"
      ],
      "metadata": {
        "id": "utREcXxReky7"
      },
      "execution_count": null,
      "outputs": []
    }
  ]
}