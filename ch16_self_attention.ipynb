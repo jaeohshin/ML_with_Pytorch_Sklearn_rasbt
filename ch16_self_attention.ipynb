{
  "nbformat": 4,
  "nbformat_minor": 0,
  "metadata": {
    "colab": {
      "provenance": [],
      "authorship_tag": "ABX9TyN7uConDJtlyhZDj1shz6bw",
      "include_colab_link": true
    },
    "kernelspec": {
      "name": "python3",
      "display_name": "Python 3"
    },
    "language_info": {
      "name": "python"
    }
  },
  "cells": [
    {
      "cell_type": "markdown",
      "metadata": {
        "id": "view-in-github",
        "colab_type": "text"
      },
      "source": [
        "<a href=\"https://colab.research.google.com/github/jaeohshin/ML_with_Pytorch_Sklearn_rasbt/blob/main/ch16_self_attention.ipynb\" target=\"_parent\"><img src=\"https://colab.research.google.com/assets/colab-badge.svg\" alt=\"Open In Colab\"/></a>"
      ]
    },
    {
      "cell_type": "code",
      "execution_count": 1,
      "metadata": {
        "colab": {
          "base_uri": "https://localhost:8080/"
        },
        "id": "TWxLnJ97NyvY",
        "outputId": "08a432f9-481c-4a0c-8cd4-ba8586c0a1bd"
      },
      "outputs": [
        {
          "output_type": "execute_result",
          "data": {
            "text/plain": [
              "tensor([0, 7, 1, 2, 5, 6, 4, 3])"
            ]
          },
          "metadata": {},
          "execution_count": 1
        }
      ],
      "source": [
        "import torch\n",
        "\n",
        "sentence = torch.tensor(\n",
        "    [0,\n",
        "     7,\n",
        "     1,\n",
        "     2,\n",
        "     5,\n",
        "     6,\n",
        "     4,\n",
        "     3]\n",
        ")\n",
        "sentence"
      ]
    },
    {
      "cell_type": "code",
      "source": [
        "torch.manual_seed(123)\n",
        "embed = torch.nn.Embedding(10, 16)\n",
        "embedded_sentence = embed(sentence).detach()\n",
        "embedded_sentence.shape"
      ],
      "metadata": {
        "colab": {
          "base_uri": "https://localhost:8080/"
        },
        "id": "rHfBrU6gOLZy",
        "outputId": "ab5cf28a-cdee-4341-925f-5cab105c1e4f"
      },
      "execution_count": 2,
      "outputs": [
        {
          "output_type": "execute_result",
          "data": {
            "text/plain": [
              "torch.Size([8, 16])"
            ]
          },
          "metadata": {},
          "execution_count": 2
        }
      ]
    },
    {
      "cell_type": "code",
      "source": [
        "import time\n",
        "\n",
        "omega = torch.empty(8, 8)\n",
        "\n",
        "\n",
        "for i, x_i in enumerate(embedded_sentence):\n",
        "    for j, x_j in enumerate(embedded_sentence):\n",
        "        omega[i, j] = torch.dot(x_i, x_j)"
      ],
      "metadata": {
        "id": "13zdjEbNOZR4"
      },
      "execution_count": 3,
      "outputs": []
    },
    {
      "cell_type": "code",
      "source": [
        "print(omega)"
      ],
      "metadata": {
        "colab": {
          "base_uri": "https://localhost:8080/"
        },
        "id": "EA5N_Dj0PQwv",
        "outputId": "ffd4ae85-e15f-41ad-91de-1894f8f6d00a"
      },
      "execution_count": 4,
      "outputs": [
        {
          "output_type": "stream",
          "name": "stdout",
          "text": [
            "tensor([[ 9.7601,  1.7326,  4.7543, -1.3587,  0.4752, -1.6717,  1.0227, -0.1286],\n",
            "        [ 1.7326, 16.0787,  9.0642, -0.3370,  1.1368,  1.1972,  1.6485, -1.2789],\n",
            "        [ 4.7543,  9.0642, 22.6615, -0.8519,  7.7799,  2.7483, -0.6832,  1.6236],\n",
            "        [-1.3587, -0.3370, -0.8519, 13.9473, -1.4198, 10.9659, -0.5887,  2.3869],\n",
            "        [ 0.4752,  1.1368,  7.7799, -1.4198, 13.7511, -6.8568, -2.5114, -3.3468],\n",
            "        [-1.6717,  1.1972,  2.7483, 10.9659, -6.8568, 24.6738, -3.8294,  4.9581],\n",
            "        [ 1.0227,  1.6485, -0.6832, -0.5887, -2.5114, -3.8294, 15.8691,  2.0269],\n",
            "        [-0.1286, -1.2789,  1.6236,  2.3869, -3.3468,  4.9581,  2.0269, 18.7382]])\n"
          ]
        }
      ]
    },
    {
      "cell_type": "code",
      "source": [
        "omega_mat = embedded_sentence.matmul(embedded_sentence.T)"
      ],
      "metadata": {
        "id": "uSX5LCnBPSgP"
      },
      "execution_count": 5,
      "outputs": []
    },
    {
      "cell_type": "code",
      "source": [
        "print(omega_mat)"
      ],
      "metadata": {
        "colab": {
          "base_uri": "https://localhost:8080/"
        },
        "id": "_fa4V8dkPlo-",
        "outputId": "1a06f6c4-5e40-497d-bee2-32bce07899fd"
      },
      "execution_count": 6,
      "outputs": [
        {
          "output_type": "stream",
          "name": "stdout",
          "text": [
            "tensor([[ 9.7601,  1.7326,  4.7543, -1.3587,  0.4752, -1.6717,  1.0227, -0.1286],\n",
            "        [ 1.7326, 16.0787,  9.0642, -0.3370,  1.1368,  1.1972,  1.6485, -1.2789],\n",
            "        [ 4.7543,  9.0642, 22.6615, -0.8519,  7.7799,  2.7483, -0.6832,  1.6236],\n",
            "        [-1.3587, -0.3370, -0.8519, 13.9473, -1.4198, 10.9659, -0.5887,  2.3869],\n",
            "        [ 0.4752,  1.1368,  7.7799, -1.4198, 13.7511, -6.8568, -2.5114, -3.3468],\n",
            "        [-1.6717,  1.1972,  2.7483, 10.9659, -6.8568, 24.6738, -3.8294,  4.9581],\n",
            "        [ 1.0227,  1.6485, -0.6832, -0.5887, -2.5114, -3.8294, 15.8691,  2.0269],\n",
            "        [-0.1286, -1.2789,  1.6236,  2.3869, -3.3468,  4.9581,  2.0269, 18.7382]])\n"
          ]
        }
      ]
    },
    {
      "cell_type": "code",
      "source": [
        "torch.allclose(omega_mat, omega)"
      ],
      "metadata": {
        "colab": {
          "base_uri": "https://localhost:8080/"
        },
        "id": "BlnyPf_uPn7B",
        "outputId": "e0fa0633-0b41-48f0-dc6c-cbefbebda99b"
      },
      "execution_count": 7,
      "outputs": [
        {
          "output_type": "execute_result",
          "data": {
            "text/plain": [
              "True"
            ]
          },
          "metadata": {},
          "execution_count": 7
        }
      ]
    },
    {
      "cell_type": "code",
      "source": [
        "import torch.nn.functional as F\n",
        "\n",
        "attention_weights = F.softmax(omega, dim=1)\n",
        "attention_weights.shape\n",
        "\n",
        "max_indices = torch.argmax(attention_weights, dim=1)\n"
      ],
      "metadata": {
        "id": "A25vUoh_QdSD"
      },
      "execution_count": 8,
      "outputs": []
    },
    {
      "cell_type": "code",
      "source": [
        "print(attention_weights.shape)\n",
        "max_indices"
      ],
      "metadata": {
        "colab": {
          "base_uri": "https://localhost:8080/"
        },
        "id": "T8YsvNG7Q81g",
        "outputId": "f6003c44-ada1-442e-e9c2-dd4dcebfeb9c"
      },
      "execution_count": 9,
      "outputs": [
        {
          "output_type": "stream",
          "name": "stdout",
          "text": [
            "torch.Size([8, 8])\n"
          ]
        },
        {
          "output_type": "execute_result",
          "data": {
            "text/plain": [
              "tensor([0, 1, 2, 3, 4, 5, 6, 7])"
            ]
          },
          "metadata": {},
          "execution_count": 9
        }
      ]
    },
    {
      "cell_type": "code",
      "source": [
        "attention_weights.sum(dim=1)"
      ],
      "metadata": {
        "colab": {
          "base_uri": "https://localhost:8080/"
        },
        "id": "NoOWPDbsRctL",
        "outputId": "c3d96ff4-f1e3-4803-f18d-633ab1a3130d"
      },
      "execution_count": 10,
      "outputs": [
        {
          "output_type": "execute_result",
          "data": {
            "text/plain": [
              "tensor([1.0000, 1.0000, 1.0000, 1.0000, 1.0000, 1.0000, 1.0000, 1.0000])"
            ]
          },
          "metadata": {},
          "execution_count": 10
        }
      ]
    },
    {
      "cell_type": "code",
      "source": [
        "x_2 = embedded_sentence[1, :]\n",
        "context_vec_2 = torch.zeros(x_2.shape)\n",
        "for j in range(8):\n",
        "    x_j = embedded_sentence[j, :]\n",
        "    context_vec_2 += attention_weights[1, j] * x_j\n",
        "context_vec_2\n"
      ],
      "metadata": {
        "colab": {
          "base_uri": "https://localhost:8080/"
        },
        "id": "D9i7hsJ6Rki-",
        "outputId": "65031dda-8a37-4f09-d216-d7958e7c374f"
      },
      "execution_count": 11,
      "outputs": [
        {
          "output_type": "execute_result",
          "data": {
            "text/plain": [
              "tensor([-9.3975e-01, -4.6856e-01,  1.0311e+00, -2.8192e-01,  4.9373e-01,\n",
              "        -1.2896e-02, -2.7327e-01, -7.6358e-01,  1.3958e+00, -9.9543e-01,\n",
              "        -7.1287e-04,  1.2449e+00, -7.8077e-02,  1.2765e+00, -1.4589e+00,\n",
              "        -2.1601e+00])"
            ]
          },
          "metadata": {},
          "execution_count": 11
        }
      ]
    },
    {
      "cell_type": "code",
      "source": [
        "context_vectors = torch.matmul(attention_weights, embedded_sentence)"
      ],
      "metadata": {
        "id": "mpQCfH4zSyjm"
      },
      "execution_count": 12,
      "outputs": []
    },
    {
      "cell_type": "code",
      "source": [
        "torch.allclose(context_vec_2, context_vectors[1])"
      ],
      "metadata": {
        "colab": {
          "base_uri": "https://localhost:8080/"
        },
        "id": "Kjkc2LXYOwsM",
        "outputId": "57918e7f-7b93-42f3-e1b5-a3c1499b477a"
      },
      "execution_count": 13,
      "outputs": [
        {
          "output_type": "execute_result",
          "data": {
            "text/plain": [
              "True"
            ]
          },
          "metadata": {},
          "execution_count": 13
        }
      ]
    },
    {
      "cell_type": "code",
      "source": [
        "torch.manual_seed(123)\n",
        "\n",
        "d = embedded_sentence.shape[1] # d = 16\n",
        "U_query = torch.rand(d, d)\n",
        "U_key = torch.rand(d, d)\n",
        "U_value = torch.rand(d, d)"
      ],
      "metadata": {
        "id": "3mLBAE3qO8CF"
      },
      "execution_count": 15,
      "outputs": []
    },
    {
      "cell_type": "code",
      "source": [
        "embedded_sentence.shape"
      ],
      "metadata": {
        "id": "ULaQeC29ZOIM",
        "outputId": "4d4202a7-2c87-450e-863f-7a02b5aa614f",
        "colab": {
          "base_uri": "https://localhost:8080/"
        }
      },
      "execution_count": 19,
      "outputs": [
        {
          "output_type": "execute_result",
          "data": {
            "text/plain": [
              "torch.Size([8, 16])"
            ]
          },
          "metadata": {},
          "execution_count": 19
        }
      ]
    },
    {
      "cell_type": "code",
      "source": [
        "x_2 = embedded_sentence[1]\n",
        "print(x_2)\n",
        "query_2 = U_query.matmul(x_2)"
      ],
      "metadata": {
        "colab": {
          "base_uri": "https://localhost:8080/"
        },
        "id": "vifGpjMWXzNI",
        "outputId": "9a9eaf4b-97b2-4782-ebe8-bccfd4723675"
      },
      "execution_count": 24,
      "outputs": [
        {
          "output_type": "stream",
          "name": "stdout",
          "text": [
            "tensor([-9.4053e-01, -4.6806e-01,  1.0322e+00, -2.8300e-01,  4.9275e-01,\n",
            "        -1.4078e-02, -2.7466e-01, -7.6409e-01,  1.3966e+00, -9.9491e-01,\n",
            "        -1.5822e-03,  1.2471e+00, -7.7105e-02,  1.2774e+00, -1.4596e+00,\n",
            "        -2.1595e+00])\n"
          ]
        }
      ]
    },
    {
      "cell_type": "code",
      "source": [
        "key_2 = U_key.matmul(x_2)\n",
        "value_2 = U_value.matmul(x_2)"
      ],
      "metadata": {
        "id": "4ltmKR9bYKa9"
      },
      "execution_count": 17,
      "outputs": []
    },
    {
      "cell_type": "code",
      "source": [
        "keys = U_key.matmul(embedded_sentence.T).T\n",
        "print(torch.allclose(key_2, keys[1]))\n",
        "values = U_value.matmul(embedded_sentence.T).T\n",
        "print(torch.allclose(value_2, values[1]))"
      ],
      "metadata": {
        "colab": {
          "base_uri": "https://localhost:8080/"
        },
        "id": "mBkviOq4YQzi",
        "outputId": "7edffc46-5e75-4211-df22-cae279c806e7"
      },
      "execution_count": 28,
      "outputs": [
        {
          "output_type": "stream",
          "name": "stdout",
          "text": [
            "True\n",
            "True\n"
          ]
        }
      ]
    },
    {
      "cell_type": "code",
      "source": [
        "omega_23 = query_2.dot(keys[2])\n",
        "omega_23"
      ],
      "metadata": {
        "id": "kiqZHeHzfeGM",
        "outputId": "4cd60895-512b-4d90-dd99-5a6e64a25e89",
        "colab": {
          "base_uri": "https://localhost:8080/"
        }
      },
      "execution_count": 30,
      "outputs": [
        {
          "output_type": "execute_result",
          "data": {
            "text/plain": [
              "tensor(14.3667)"
            ]
          },
          "metadata": {},
          "execution_count": 30
        }
      ]
    },
    {
      "cell_type": "code",
      "source": [
        "omega_2 = query_2.matmul(keys.T)\n",
        "omega_2"
      ],
      "metadata": {
        "id": "EHgcQZuRfidl",
        "outputId": "28b952bd-dcf4-41ed-9cf6-6c3d8e587a65",
        "colab": {
          "base_uri": "https://localhost:8080/"
        }
      },
      "execution_count": 32,
      "outputs": [
        {
          "output_type": "execute_result",
          "data": {
            "text/plain": [
              "tensor([-25.1623,   9.3602,  14.3667,  32.1482,  53.8976,  46.6626,  -1.2131,\n",
              "        -32.9392])"
            ]
          },
          "metadata": {},
          "execution_count": 32
        }
      ]
    },
    {
      "cell_type": "code",
      "source": [
        "attention_weights_2 = F.softmax(omega_2 / d**0.5, dim=0)\n",
        "attention_weights_2"
      ],
      "metadata": {
        "id": "ePWqYiG1ftid",
        "outputId": "994e3b2b-6494-46f0-cf93-2d9f42c8f48d",
        "colab": {
          "base_uri": "https://localhost:8080/"
        }
      },
      "execution_count": 34,
      "outputs": [
        {
          "output_type": "execute_result",
          "data": {
            "text/plain": [
              "tensor([2.2317e-09, 1.2499e-05, 4.3696e-05, 3.7242e-03, 8.5596e-01, 1.4026e-01,\n",
              "        8.8897e-07, 3.1935e-10])"
            ]
          },
          "metadata": {},
          "execution_count": 34
        }
      ]
    },
    {
      "cell_type": "code",
      "source": [
        "context_vector_2 = attention_weights_2.matmul(values)\n",
        "context_vector_2"
      ],
      "metadata": {
        "id": "4aAx6RP-gAAx",
        "outputId": "d9f7e625-408e-45fa-afa2-9e5fde42fe0d",
        "colab": {
          "base_uri": "https://localhost:8080/"
        }
      },
      "execution_count": 35,
      "outputs": [
        {
          "output_type": "execute_result",
          "data": {
            "text/plain": [
              "tensor([-1.2226, -3.4387, -4.3928, -5.2125, -1.1249, -3.3041, -1.4316, -3.2765,\n",
              "        -2.5114, -2.6105, -1.5793, -2.8433, -2.4142, -0.3998, -1.9917, -3.3499])"
            ]
          },
          "metadata": {},
          "execution_count": 35
        }
      ]
    },
    {
      "cell_type": "code",
      "source": [],
      "metadata": {
        "id": "X2KHNgEjgnl2"
      },
      "execution_count": null,
      "outputs": []
    }
  ]
}