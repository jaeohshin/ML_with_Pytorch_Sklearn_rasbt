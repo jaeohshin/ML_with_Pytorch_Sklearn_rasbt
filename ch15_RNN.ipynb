{
  "nbformat": 4,
  "nbformat_minor": 0,
  "metadata": {
    "colab": {
      "provenance": [],
      "authorship_tag": "ABX9TyMJywF4eb0CACP+srIzNNy+",
      "include_colab_link": true
    },
    "kernelspec": {
      "name": "python3",
      "display_name": "Python 3"
    },
    "language_info": {
      "name": "python"
    }
  },
  "cells": [
    {
      "cell_type": "markdown",
      "metadata": {
        "id": "view-in-github",
        "colab_type": "text"
      },
      "source": [
        "<a href=\"https://colab.research.google.com/github/jaeohshin/ML_with_Pytorch_Sklearn_rasbt/blob/main/ch15_RNN.ipynb\" target=\"_parent\"><img src=\"https://colab.research.google.com/assets/colab-badge.svg\" alt=\"Open In Colab\"/></a>"
      ]
    },
    {
      "cell_type": "code",
      "execution_count": null,
      "metadata": {
        "id": "9QbanTm-dm2_",
        "colab": {
          "base_uri": "https://localhost:8080/"
        },
        "outputId": "a963416f-aa8e-449f-9299-481b928ba2da"
      },
      "outputs": [
        {
          "output_type": "stream",
          "name": "stdout",
          "text": [
            "W_xh shape: torch.Size([2, 5])\n",
            "W_hh shape: torch.Size([2, 2])\n",
            "b_xh shape: torch.Size([2])\n",
            "b_hh shape: torch.Size([2])\n"
          ]
        }
      ],
      "source": [
        "import torch\n",
        "import torch.nn as nn\n",
        "\n",
        "torch.manual_seed(1)\n",
        "\n",
        "rnn_layer = nn.RNN(input_size=5, hidden_size=2, num_layers=1, batch_first=True)\n",
        "\n",
        "w_xh = rnn_layer.weight_ih_l0\n",
        "w_hh = rnn_layer.weight_hh_l0\n",
        "b_xh = rnn_layer.bias_ih_l0\n",
        "b_hh = rnn_layer.bias_hh_l0\n",
        "\n",
        "#print(w_xh)\n",
        "#print(w_hh)\n",
        "#print(b_xh)\n",
        "#print(b_hh)\n",
        "\n",
        "print('W_xh shape:', w_xh.shape)\n",
        "print('W_hh shape:', w_hh.shape)\n",
        "print('b_xh shape:', b_xh.shape)\n",
        "print('b_hh shape:', b_hh.shape)"
      ]
    },
    {
      "cell_type": "code",
      "source": [
        "x_seq = torch.tensor([[1.0]*5, [2.0]*5, [3.0]*5]).float()\n",
        "\n",
        "output, hn = rnn_layer(torch.reshape(x_seq, (1, 3, 5)))\n",
        "print(output)\n",
        "print(hn)\n",
        "out_man = []\n",
        "for t in range(3):\n",
        "    xt = torch.reshape(x_seq[t], (1,5))\n",
        "    #print(f'Time step {t} =>')\n",
        "    #print('   Input       :', xt.numpy())\n",
        "\n",
        "    ht = torch.matmul(xt, torch.transpose(w_xh, 0, 1)) +b_xh\n",
        "    print('      Hidden      :', ht.detach().numpy())\n",
        "\n",
        "    if t>0:\n",
        "        prev_h = out_man[t-1]\n",
        "    else:\n",
        "        prev_h = torch.zeros((ht.shape))\n",
        "\n",
        "    ot = ht + torch.matmul(prev_h, torch.transpose(w_hh, 0, 1)) + b_hh\n",
        "    ot = torch.tanh(ot)\n",
        "    out_man.append(ot)\n",
        "    print('   Output (manual) : ', ot.detach().numpy())\n",
        "    print('   RNN output      : ', output[:, t].detach().numpy())\n",
        "    print()"
      ],
      "metadata": {
        "colab": {
          "base_uri": "https://localhost:8080/"
        },
        "id": "8xaque_Ip-5t",
        "outputId": "606b399d-08d0-4d7a-d807-473a27e72523"
      },
      "execution_count": null,
      "outputs": [
        {
          "output_type": "stream",
          "name": "stdout",
          "text": [
            "tensor([[[-0.3520,  0.5253],\n",
            "         [-0.6842,  0.7607],\n",
            "         [-0.8649,  0.9047]]], grad_fn=<TransposeBackward1>)\n",
            "tensor([[[-0.8649,  0.9047]]], grad_fn=<StackBackward0>)\n",
            "      Hidden      : [[-0.4701929   0.58639044]]\n",
            "   Output (manual) :  [[-0.3519801   0.52525216]]\n",
            "   RNN output      :  [[-0.3519801   0.52525216]]\n",
            "\n",
            "      Hidden      : [[-0.88883156  1.2364398 ]]\n",
            "   Output (manual) :  [[-0.68424344  0.76074266]]\n",
            "   RNN output      :  [[-0.68424344  0.76074266]]\n",
            "\n",
            "      Hidden      : [[-1.3074702  1.8864892]]\n",
            "   Output (manual) :  [[-0.8649416  0.9046636]]\n",
            "   RNN output      :  [[-0.8649416  0.9046636]]\n",
            "\n"
          ]
        }
      ]
    },
    {
      "cell_type": "code",
      "source": [],
      "metadata": {
        "id": "qBreelZ3r52-"
      },
      "execution_count": null,
      "outputs": []
    }
  ]
}