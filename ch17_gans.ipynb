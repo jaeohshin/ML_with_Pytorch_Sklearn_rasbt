{
  "nbformat": 4,
  "nbformat_minor": 0,
  "metadata": {
    "colab": {
      "provenance": [],
      "gpuType": "T4",
      "authorship_tag": "ABX9TyOLu6wjdz9dUo6V4EnRqbEp",
      "include_colab_link": true
    },
    "kernelspec": {
      "name": "python3",
      "display_name": "Python 3"
    },
    "language_info": {
      "name": "python"
    },
    "accelerator": "GPU"
  },
  "cells": [
    {
      "cell_type": "markdown",
      "metadata": {
        "id": "view-in-github",
        "colab_type": "text"
      },
      "source": [
        "<a href=\"https://colab.research.google.com/github/jaeohshin/ML_with_Pytorch_Sklearn_rasbt/blob/main/ch17_gans.ipynb\" target=\"_parent\"><img src=\"https://colab.research.google.com/assets/colab-badge.svg\" alt=\"Open In Colab\"/></a>"
      ]
    },
    {
      "cell_type": "code",
      "execution_count": 1,
      "metadata": {
        "id": "mM8Gq99EI1wE"
      },
      "outputs": [],
      "source": [
        "import sys\n",
        "sys.path.insert(0, '..')"
      ]
    },
    {
      "cell_type": "code",
      "source": [
        "import torch\n",
        "\n",
        "print(torch.__version__)\n",
        "print(\"GPU Available:\", torch.cuda.is_available())\n",
        "\n",
        "if torch.cuda.is_available():\n",
        "    device = torch.device(\"cuda:0\")\n",
        "else:\n",
        "    device = \"cpu\""
      ],
      "metadata": {
        "id": "Wr3OtFCh6YBs",
        "outputId": "e9b666fe-25a0-4887-af96-07f2b9e1960e",
        "colab": {
          "base_uri": "https://localhost:8080/"
        }
      },
      "execution_count": 1,
      "outputs": [
        {
          "output_type": "stream",
          "name": "stdout",
          "text": [
            "2.3.1+cu121\n",
            "GPU Available: True\n"
          ]
        }
      ]
    },
    {
      "cell_type": "code",
      "source": [
        "import torch.nn as nn\n",
        "import numpy as np\n",
        "\n",
        "import matplotlib.pyplot as plt\n",
        "%matplotlib inline"
      ],
      "metadata": {
        "id": "jjY2nuvW6pi5"
      },
      "execution_count": 2,
      "outputs": []
    },
    {
      "cell_type": "code",
      "source": [
        "## define a function for the generator:\n",
        "\n",
        "def make_generator_network(\n",
        "        input_size = 20,\n",
        "        num_hidden_layers=1,\n",
        "        num_hidden_units=100,\n",
        "        num_output_units=748):\n",
        "    model = nn.Sequential()\n",
        "    for i in range(num_hidden_layers):\n",
        "        model.add_module(f'fc_g{i}',\n",
        "                        nn.Linear(input_size,\n",
        "                                  num_hidden_units))\n",
        "        model.add_module(f'relu_g{i}',\n",
        "                         nn.LeakyReLU())\n",
        "        input_size = num_hidden_units\n",
        "\n",
        "    model.add_module(f'fc_g{num_hidden_layers}',\n",
        "                     nn.Linear(input_size, num_output_units))\n",
        "    model.add_module('tanh_g', nn.Tanh())\n",
        "    return model\n",
        "\n",
        "## define a function for the discriminator:\n",
        "\n",
        "def make_discriminator_network(\n",
        "        input_size = 748,\n",
        "        num_hidden_layers = 1,\n",
        "        num_hidden_units=100,\n",
        "        num_output_units=1):\n",
        "    model = nn.Sequential()\n",
        "    for i in range(num_hidden_layers):\n",
        "        model.add_module(f'fc_d{i}',\n",
        "                nn.Linear(input_size,\n",
        "                          num_hidden_units, bias=False))\n",
        "        model.add_module(f'relu_d{i}',\n",
        "                         nn.LeakyReLU())\n",
        "        model.add_module('dropout', nn.Dropout(p=0.5))\n",
        "        input_size = num_hidden_units\n",
        "    model.add_module(f'fc_d{num_hidden_layers}',\n",
        "                     nn.Linear(input_size, num_output_units))\n",
        "    model.add_module('sigmoid', nn.Sigmoid())\n",
        "    return model"
      ],
      "metadata": {
        "id": "S2FDh-_R7a2D"
      },
      "execution_count": 3,
      "outputs": []
    },
    {
      "cell_type": "code",
      "source": [],
      "metadata": {
        "id": "3wsl_MG3_w-f"
      },
      "execution_count": null,
      "outputs": []
    }
  ]
}