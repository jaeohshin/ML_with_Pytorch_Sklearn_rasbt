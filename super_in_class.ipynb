{
  "nbformat": 4,
  "nbformat_minor": 0,
  "metadata": {
    "colab": {
      "provenance": [],
      "authorship_tag": "ABX9TyOysp3iDsgaoZQDouTkNMV2",
      "include_colab_link": true
    },
    "kernelspec": {
      "name": "python3",
      "display_name": "Python 3"
    },
    "language_info": {
      "name": "python"
    }
  },
  "cells": [
    {
      "cell_type": "markdown",
      "metadata": {
        "id": "view-in-github",
        "colab_type": "text"
      },
      "source": [
        "<a href=\"https://colab.research.google.com/github/jaeohshin/ML_with_Pytorch_Sklearn_rasbt/blob/main/super_in_class.ipynb\" target=\"_parent\"><img src=\"https://colab.research.google.com/assets/colab-badge.svg\" alt=\"Open In Colab\"/></a>"
      ]
    },
    {
      "cell_type": "code",
      "execution_count": 5,
      "metadata": {
        "id": "LP6fnjwLsleT"
      },
      "outputs": [],
      "source": [
        "class Human:\n",
        "\n",
        "    def __init__(self):\n",
        "        self.name = '사람이름'\n",
        "        self.age = '나이'\n",
        "        self.city = '사는도시'\n",
        "\n",
        "    def show(self):\n",
        "        print('사람 클래스의 메소드입니다')\n",
        "\n",
        "class Student(Human):\n",
        "\n",
        "    def __init__(self, name):\n",
        "        super().__init__()\n",
        "        self.name = name\n",
        "\n",
        "    def show_name(self):\n",
        "        print('사람의 이름은 : ', self.name)\n",
        "\n",
        "    def show_age(self):\n",
        "        print('사람의 나이는: ', self.age)"
      ]
    },
    {
      "cell_type": "code",
      "source": [
        "a = Student('James')\n",
        "a.show_age()"
      ],
      "metadata": {
        "colab": {
          "base_uri": "https://localhost:8080/"
        },
        "id": "MSZ853hstS1q",
        "outputId": "216d1038-d05f-4063-9ea0-910113ee87fb"
      },
      "execution_count": 6,
      "outputs": [
        {
          "output_type": "stream",
          "name": "stdout",
          "text": [
            "사람의 나이는:  나이\n"
          ]
        }
      ]
    },
    {
      "cell_type": "code",
      "source": [],
      "metadata": {
        "id": "vgirOtlHtZlI"
      },
      "execution_count": null,
      "outputs": []
    }
  ]
}