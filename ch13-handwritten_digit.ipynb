{
 "cells": [
  {
   "cell_type": "markdown",
   "id": "ba39f7b9-c8c6-4113-8945-c9ba881052af",
   "metadata": {},
   "source": [
    "## Classifying MNIST hand-written digits"
   ]
  },
  {
   "cell_type": "code",
   "execution_count": 24,
   "id": "6567de33-afbb-4c44-b47b-0be7393921c8",
   "metadata": {},
   "outputs": [],
   "source": [
    "import torch\n",
    "import torch.nn as nn\n",
    "import torchvision\n",
    "from torchvision import transforms\n",
    "from torch.utils.data import TensorDataset, DataLoader"
   ]
  },
  {
   "cell_type": "code",
   "execution_count": 25,
   "id": "fcfa43a5-cbe9-4303-a228-ea6437c991aa",
   "metadata": {},
   "outputs": [],
   "source": [
    "### Obtain train and test data\n",
    "image_path = './'\n",
    "transform = transforms.Compose([transforms.ToTensor()])\n",
    "\n",
    "mnist_train_dataset = torchvision.datasets.MNIST(root=image_path,\n",
    "                                                train=True,\n",
    "                                                transform=transform,\n",
    "                                                download=True)\n",
    "mnist_test_dataset = torchvision.datasets.MNIST(root=image_path,\n",
    "                                                train=False,\n",
    "                                                transform=transform,\n",
    "                                                download=False)\n",
    "\n",
    "batch_size = 64\n",
    "torch.manual_seed(1)\n",
    "train_dl = DataLoader(mnist_train_dataset, batch_size, shuffle=True)"
   ]
  },
  {
   "cell_type": "markdown",
   "id": "32e89c3b-bf5a-42c7-90b4-7d2b1cccbe9c",
   "metadata": {},
   "source": [
    "Define neural network"
   ]
  },
  {
   "cell_type": "code",
   "execution_count": 26,
   "id": "6131cfa4-08fa-42f7-8faa-6d94ca8dc20f",
   "metadata": {},
   "outputs": [
    {
     "name": "stdout",
     "output_type": "stream",
     "text": [
      "torch.Size([1, 28, 28])\n"
     ]
    }
   ],
   "source": [
    "hidden_units = [32, 16]\n",
    "image_size = mnist_train_dataset[0][0].shape\n",
    "print(image_size)\n"
   ]
  },
  {
   "cell_type": "code",
   "execution_count": 27,
   "id": "8b626b8e-e905-4cbd-a496-ad1bbdee894c",
   "metadata": {},
   "outputs": [],
   "source": [
    "input_size = image_size[0] * image_size[1] * image_size[2]"
   ]
  },
  {
   "cell_type": "code",
   "execution_count": 28,
   "id": "f52663ef-328b-449c-942d-536d8457fded",
   "metadata": {},
   "outputs": [
    {
     "name": "stdout",
     "output_type": "stream",
     "text": [
      "784\n"
     ]
    }
   ],
   "source": [
    "print(input_size)"
   ]
  },
  {
   "cell_type": "code",
   "execution_count": 29,
   "id": "da0ccd87-37d7-4b01-988d-793afb684276",
   "metadata": {},
   "outputs": [
    {
     "name": "stdout",
     "output_type": "stream",
     "text": [
      "[Flatten(start_dim=1, end_dim=-1)]\n"
     ]
    }
   ],
   "source": [
    "all_layers = [nn.Flatten()]\n",
    "print(all_layers)"
   ]
  },
  {
   "cell_type": "code",
   "execution_count": 30,
   "id": "5a0d8bcd-ff83-4777-8afe-a7367b7fc079",
   "metadata": {},
   "outputs": [
    {
     "data": {
      "text/plain": [
       "Sequential(\n",
       "  (0): Flatten(start_dim=1, end_dim=-1)\n",
       "  (1): Linear(in_features=784, out_features=32, bias=True)\n",
       "  (2): ReLU()\n",
       "  (3): Linear(in_features=32, out_features=16, bias=True)\n",
       "  (4): ReLU()\n",
       "  (5): Linear(in_features=16, out_features=10, bias=True)\n",
       ")"
      ]
     },
     "execution_count": 30,
     "metadata": {},
     "output_type": "execute_result"
    }
   ],
   "source": [
    "for hidden_unit in hidden_units:\n",
    "    layer = nn.Linear(input_size, hidden_unit)\n",
    "    all_layers.append(layer)\n",
    "    all_layers.append(nn.ReLU())\n",
    "    input_size = hidden_unit\n",
    "all_layers.append(nn.Linear(hidden_units[-1], 10))\n",
    "model = nn.Sequential(*all_layers)\n",
    "\n",
    "model"
   ]
  },
  {
   "cell_type": "code",
   "execution_count": 34,
   "id": "0bc248fb-69b6-4dee-abcb-ed57d7e599d9",
   "metadata": {},
   "outputs": [
    {
     "name": "stdout",
     "output_type": "stream",
     "text": [
      "Epoch 0 Accuracy 0.8558\n",
      "Epoch 1 Accuracy 0.9303\n",
      "Epoch 2 Accuracy 0.9442\n",
      "Epoch 3 Accuracy 0.9534\n",
      "Epoch 4 Accuracy 0.9580\n",
      "Epoch 5 Accuracy 0.9622\n",
      "Epoch 6 Accuracy 0.9657\n",
      "Epoch 7 Accuracy 0.9678\n",
      "Epoch 8 Accuracy 0.9698\n",
      "Epoch 9 Accuracy 0.9723\n",
      "Epoch 10 Accuracy 0.9740\n",
      "Epoch 11 Accuracy 0.9750\n",
      "Epoch 12 Accuracy 0.9768\n",
      "Epoch 13 Accuracy 0.9782\n",
      "Epoch 14 Accuracy 0.9791\n",
      "Epoch 15 Accuracy 0.9808\n",
      "Epoch 16 Accuracy 0.9819\n",
      "Epoch 17 Accuracy 0.9826\n",
      "Epoch 18 Accuracy 0.9829\n",
      "Epoch 19 Accuracy 0.9847\n"
     ]
    }
   ],
   "source": [
    "loss_fn = nn.CrossEntropyLoss()\n",
    "optimizer = torch.optim.Adam(model.parameters(), lr=0.001)\n",
    "\n",
    "torch.manual_seed(1)\n",
    "num_epochs = 20\n",
    "\n",
    "for epoch in range(num_epochs):\n",
    "    accuracy_hist_train = 0\n",
    "    for x_batch, y_batch in train_dl:\n",
    "        pred = model(x_batch)\n",
    "        loss = loss_fn(pred, y_batch)\n",
    "        loss.backward()\n",
    "        optimizer.step()\n",
    "        optimizer.zero_grad()\n",
    "        is_correct = (torch.argmax(pred, dim=1) == y_batch).float()\n",
    "        accuracy_hist_train += is_correct.sum()\n",
    "    accuracy_hist_train /= len(train_dl.dataset)\n",
    "    print(f'Epoch {epoch} Accuracy {accuracy_hist_train:.4f}')"
   ]
  },
  {
   "cell_type": "code",
   "execution_count": 36,
   "id": "dae29140-bfb5-4274-b7c6-fedfcfdfd58b",
   "metadata": {},
   "outputs": [
    {
     "name": "stdout",
     "output_type": "stream",
     "text": [
      "Test accuracy: 0.9679\n"
     ]
    }
   ],
   "source": [
    "pred = model(mnist_test_dataset.data / 255.)\n",
    "is_correct = (torch.argmax(pred, dim=1) == mnist_test_dataset.targets).float()\n",
    "print(f'Test accuracy: {is_correct.mean():.4f}')"
   ]
  },
  {
   "cell_type": "code",
   "execution_count": null,
   "id": "aa914475-14b1-4b18-aa92-88aa2614d77d",
   "metadata": {},
   "outputs": [],
   "source": []
  }
 ],
 "metadata": {
  "kernelspec": {
   "display_name": "Python 3 (ipykernel)",
   "language": "python",
   "name": "python3"
  },
  "language_info": {
   "codemirror_mode": {
    "name": "ipython",
    "version": 3
   },
   "file_extension": ".py",
   "mimetype": "text/x-python",
   "name": "python",
   "nbconvert_exporter": "python",
   "pygments_lexer": "ipython3",
   "version": "3.8.19"
  }
 },
 "nbformat": 4,
 "nbformat_minor": 5
}
