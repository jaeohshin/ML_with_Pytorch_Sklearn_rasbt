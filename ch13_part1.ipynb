{
  "nbformat": 4,
  "nbformat_minor": 0,
  "metadata": {
    "colab": {
      "provenance": [],
      "authorship_tag": "ABX9TyO2ANELfXLIJ4NHpu5twf3s",
      "include_colab_link": true
    },
    "kernelspec": {
      "name": "python3",
      "display_name": "Python 3"
    },
    "language_info": {
      "name": "python"
    }
  },
  "cells": [
    {
      "cell_type": "markdown",
      "metadata": {
        "id": "view-in-github",
        "colab_type": "text"
      },
      "source": [
        "<a href=\"https://colab.research.google.com/github/jaeohshin/ML_with_Pytorch_Sklearn_rasbt/blob/main/ch13_part1.ipynb\" target=\"_parent\"><img src=\"https://colab.research.google.com/assets/colab-badge.svg\" alt=\"Open In Colab\"/></a>"
      ]
    },
    {
      "cell_type": "code",
      "source": [
        "import torch"
      ],
      "metadata": {
        "id": "88ec95yxAlTT"
      },
      "execution_count": 1,
      "outputs": []
    },
    {
      "cell_type": "code",
      "execution_count": 2,
      "metadata": {
        "colab": {
          "base_uri": "https://localhost:8080/"
        },
        "id": "erVB2ZKgAQ79",
        "outputId": "9acc3865-3ec9-4a51-9455-ea9e1344f29d"
      },
      "outputs": [
        {
          "output_type": "stream",
          "name": "stdout",
          "text": [
            "False\n"
          ]
        }
      ],
      "source": [
        "w = torch.tensor([1.0, 2.0, 3.0])\n",
        "print(w.requires_grad)"
      ]
    },
    {
      "cell_type": "code",
      "source": [
        "w.requires_grad_()\n",
        "print(w.requires_grad)"
      ],
      "metadata": {
        "colab": {
          "base_uri": "https://localhost:8080/"
        },
        "id": "5cFPFYNWAhN7",
        "outputId": "e656474a-9f9b-42be-8d49-52fb53ed955c"
      },
      "execution_count": 3,
      "outputs": [
        {
          "output_type": "stream",
          "name": "stdout",
          "text": [
            "True\n"
          ]
        }
      ]
    },
    {
      "cell_type": "code",
      "source": [
        "import torch.nn as nn\n",
        "torch.manual_seed(1)\n",
        "w = torch.empty(2, 3)\n",
        "nn.init.xavier_normal_(w)"
      ],
      "metadata": {
        "colab": {
          "base_uri": "https://localhost:8080/"
        },
        "id": "kASVBEQBA1S3",
        "outputId": "f7561fcd-9e6a-4719-8988-c2a8042f449e"
      },
      "execution_count": 4,
      "outputs": [
        {
          "output_type": "execute_result",
          "data": {
            "text/plain": [
              "tensor([[ 0.4183,  0.1688,  0.0390],\n",
              "        [ 0.3930, -0.2858, -0.1051]])"
            ]
          },
          "metadata": {},
          "execution_count": 4
        }
      ]
    },
    {
      "cell_type": "code",
      "source": [
        "class MyModule(nn.Module):\n",
        "    def __init__(self):\n",
        "        super().__init__()\n",
        "        self.w1 = torch.empty(2, 3, requires_grad=True)\n",
        "        nn.init.xavier_normal(self.w1)\n",
        "        swlf.w2 = torch.empty(1, 2, requires_grad = True)\n",
        "        nn.init.xavier_normal_(self.w2)"
      ],
      "metadata": {
        "id": "hQ3gyZI5BN7M"
      },
      "execution_count": 5,
      "outputs": []
    },
    {
      "cell_type": "code",
      "source": [
        "w = torch.tensor(1.0, requires_grad=True)\n",
        "b = torch.tensor(0.5, requires_grad=True)\n",
        "x = torch.tensor([1.4])\n",
        "y = torch.tensor([2.1])\n",
        "z = torch.add(torch.mul(w, x), b)\n",
        "loss= (y-z).pow(2).sum()\n",
        "\n",
        "loss.backward()\n",
        "print('dL/dw :', w.grad)\n",
        "print('dL/db: ', b.grad)"
      ],
      "metadata": {
        "id": "9ud3AcbkCDD6",
        "colab": {
          "base_uri": "https://localhost:8080/"
        },
        "outputId": "740d3be0-3cb3-4d15-b4ed-fe76a4f39a18"
      },
      "execution_count": 6,
      "outputs": [
        {
          "output_type": "stream",
          "name": "stdout",
          "text": [
            "dL/dw : tensor(-0.5600)\n",
            "dL/db:  tensor(-0.4000)\n"
          ]
        }
      ]
    },
    {
      "cell_type": "code",
      "source": [
        "model = nn.Sequential(\n",
        "    nn.Linear(4, 16),\n",
        "    nn.ReLU(),\n",
        "    nn.Linear(16, 32),\n",
        "    nn.ReLU()\n",
        ")\n",
        "\n",
        "model"
      ],
      "metadata": {
        "colab": {
          "base_uri": "https://localhost:8080/"
        },
        "id": "n9VNbewEbuZZ",
        "outputId": "81fb48bc-e536-4a77-d735-791f7bcd3212"
      },
      "execution_count": 9,
      "outputs": [
        {
          "output_type": "execute_result",
          "data": {
            "text/plain": [
              "Sequential(\n",
              "  (0): Linear(in_features=4, out_features=16, bias=True)\n",
              "  (1): ReLU()\n",
              "  (2): Linear(in_features=16, out_features=32, bias=True)\n",
              "  (3): ReLU()\n",
              ")"
            ]
          },
          "metadata": {},
          "execution_count": 9
        }
      ]
    },
    {
      "cell_type": "code",
      "source": [
        "nn.init.xavier_uniform_(model[0].weight)\n",
        "l1_weight = 0.01\n",
        "l1_penalty = l1_weight * model[2].weight.abs().sum()\n",
        "\n"
      ],
      "metadata": {
        "id": "bH2eNZy-dKiJ"
      },
      "execution_count": 14,
      "outputs": []
    },
    {
      "cell_type": "code",
      "source": [
        "loss_fn = nn.BCELoss()\n",
        "optimizer = torch.optim.SGD(model.parameters(), lr = 0.001)"
      ],
      "metadata": {
        "id": "0zKXo4zRdrIm"
      },
      "execution_count": 15,
      "outputs": []
    },
    {
      "cell_type": "code",
      "source": [],
      "metadata": {
        "id": "l95OIdhGe3KT"
      },
      "execution_count": null,
      "outputs": []
    }
  ]
}