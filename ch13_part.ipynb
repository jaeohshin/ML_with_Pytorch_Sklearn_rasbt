{
  "nbformat": 4,
  "nbformat_minor": 0,
  "metadata": {
    "colab": {
      "provenance": [],
      "authorship_tag": "ABX9TyMtZFdIhkpIlGCAaRnfNzZp",
      "include_colab_link": true
    },
    "kernelspec": {
      "name": "python3",
      "display_name": "Python 3"
    },
    "language_info": {
      "name": "python"
    }
  },
  "cells": [
    {
      "cell_type": "markdown",
      "metadata": {
        "id": "view-in-github",
        "colab_type": "text"
      },
      "source": [
        "<a href=\"https://colab.research.google.com/github/jaeohshin/ML_with_Pytorch_Sklearn_rasbt/blob/main/ch13_part.ipynb\" target=\"_parent\"><img src=\"https://colab.research.google.com/assets/colab-badge.svg\" alt=\"Open In Colab\"/></a>"
      ]
    },
    {
      "cell_type": "code",
      "source": [
        "import torch"
      ],
      "metadata": {
        "id": "88ec95yxAlTT"
      },
      "execution_count": 3,
      "outputs": []
    },
    {
      "cell_type": "code",
      "execution_count": 4,
      "metadata": {
        "colab": {
          "base_uri": "https://localhost:8080/"
        },
        "id": "erVB2ZKgAQ79",
        "outputId": "600c6188-50b4-4bea-ed98-23fa77f556f5"
      },
      "outputs": [
        {
          "output_type": "stream",
          "name": "stdout",
          "text": [
            "False\n"
          ]
        }
      ],
      "source": [
        "w = torch.tensor([1.0, 2.0, 3.0])\n",
        "print(w.requires_grad)"
      ]
    },
    {
      "cell_type": "code",
      "source": [
        "w.requires_grad_()\n",
        "print(w.requires_grad)"
      ],
      "metadata": {
        "colab": {
          "base_uri": "https://localhost:8080/"
        },
        "id": "5cFPFYNWAhN7",
        "outputId": "19838e97-b50c-4582-ce76-f560bad6b6e0"
      },
      "execution_count": 6,
      "outputs": [
        {
          "output_type": "stream",
          "name": "stdout",
          "text": [
            "True\n"
          ]
        }
      ]
    },
    {
      "cell_type": "code",
      "source": [
        "import torch.nn as nn\n",
        "torch.manual_seed(1)\n",
        "w = torch.empty(2, 3)\n",
        "nn.init.xavier_normal_(w)"
      ],
      "metadata": {
        "colab": {
          "base_uri": "https://localhost:8080/"
        },
        "id": "kASVBEQBA1S3",
        "outputId": "d1b4fde3-d030-4d62-fa52-3e7f600960c7"
      },
      "execution_count": 7,
      "outputs": [
        {
          "output_type": "execute_result",
          "data": {
            "text/plain": [
              "tensor([[ 0.4183,  0.1688,  0.0390],\n",
              "        [ 0.3930, -0.2858, -0.1051]])"
            ]
          },
          "metadata": {},
          "execution_count": 7
        }
      ]
    },
    {
      "cell_type": "code",
      "source": [
        "class MyModule(nn.Module):\n",
        "    def __init__(self):\n",
        "        super().__init__()\n",
        "        self.w1 = torch.empty(2, 3, requires_grad=True)\n",
        "        nn.init.xavier_normal(self.w1)\n",
        "        swlf.w2 = torch.empty(1, 2, requires_grad = True)\n",
        "        nn.init.xavier_normal_(self.w2)"
      ],
      "metadata": {
        "id": "hQ3gyZI5BN7M"
      },
      "execution_count": 8,
      "outputs": []
    },
    {
      "cell_type": "code",
      "source": [],
      "metadata": {
        "id": "9ud3AcbkCDD6"
      },
      "execution_count": null,
      "outputs": []
    }
  ]
}